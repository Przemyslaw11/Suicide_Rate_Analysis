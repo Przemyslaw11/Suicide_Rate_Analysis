{
 "cells": [
  {
   "cell_type": "markdown",
   "metadata": {},
   "source": [
    "In this notebook, we will analyze the Suicide Rates dataset and draw conclusions related to global suicide trends from 1985 to 2016."
   ]
  },
  {
   "cell_type": "code",
   "execution_count": 42,
   "metadata": {},
   "outputs": [],
   "source": [
    "import matplotlib.pyplot as plt\n",
    "import plotly.express as px\n",
    "import seaborn as sns\n",
    "import pandas as pd\n",
    "import numpy as np"
   ]
  },
  {
   "cell_type": "markdown",
   "metadata": {},
   "source": [
    "Let's take a look at our dataset."
   ]
  },
  {
   "cell_type": "markdown",
   "metadata": {},
   "source": [
    "# Data preprocessing"
   ]
  },
  {
   "cell_type": "code",
   "execution_count": 43,
   "metadata": {},
   "outputs": [
    {
     "data": {
      "text/html": [
       "<div>\n",
       "<style scoped>\n",
       "    .dataframe tbody tr th:only-of-type {\n",
       "        vertical-align: middle;\n",
       "    }\n",
       "\n",
       "    .dataframe tbody tr th {\n",
       "        vertical-align: top;\n",
       "    }\n",
       "\n",
       "    .dataframe thead th {\n",
       "        text-align: right;\n",
       "    }\n",
       "</style>\n",
       "<table border=\"1\" class=\"dataframe\">\n",
       "  <thead>\n",
       "    <tr style=\"text-align: right;\">\n",
       "      <th></th>\n",
       "      <th>country</th>\n",
       "      <th>year</th>\n",
       "      <th>sex</th>\n",
       "      <th>age</th>\n",
       "      <th>suicides_no</th>\n",
       "      <th>population</th>\n",
       "      <th>suicides/100k pop</th>\n",
       "      <th>country-year</th>\n",
       "      <th>HDI for year</th>\n",
       "      <th>gdp_for_year ($)</th>\n",
       "      <th>gdp_per_capita ($)</th>\n",
       "      <th>generation</th>\n",
       "    </tr>\n",
       "  </thead>\n",
       "  <tbody>\n",
       "    <tr>\n",
       "      <th>20365</th>\n",
       "      <td>Republic of Korea</td>\n",
       "      <td>1996</td>\n",
       "      <td>female</td>\n",
       "      <td>75+ years</td>\n",
       "      <td>150</td>\n",
       "      <td>616700</td>\n",
       "      <td>24.32</td>\n",
       "      <td>Republic of Korea1996</td>\n",
       "      <td>NaN</td>\n",
       "      <td>598,099,073,901</td>\n",
       "      <td>14071</td>\n",
       "      <td>G.I. Generation</td>\n",
       "    </tr>\n",
       "    <tr>\n",
       "      <th>8569</th>\n",
       "      <td>Estonia</td>\n",
       "      <td>2012</td>\n",
       "      <td>female</td>\n",
       "      <td>5-14 years</td>\n",
       "      <td>0</td>\n",
       "      <td>63330</td>\n",
       "      <td>0.00</td>\n",
       "      <td>Estonia2012</td>\n",
       "      <td>0.855</td>\n",
       "      <td>23,043,864,510</td>\n",
       "      <td>18411</td>\n",
       "      <td>Generation Z</td>\n",
       "    </tr>\n",
       "    <tr>\n",
       "      <th>10433</th>\n",
       "      <td>Grenada</td>\n",
       "      <td>1990</td>\n",
       "      <td>female</td>\n",
       "      <td>25-34 years</td>\n",
       "      <td>0</td>\n",
       "      <td>4900</td>\n",
       "      <td>0.00</td>\n",
       "      <td>Grenada1990</td>\n",
       "      <td>NaN</td>\n",
       "      <td>278,098,778</td>\n",
       "      <td>3391</td>\n",
       "      <td>Boomers</td>\n",
       "    </tr>\n",
       "    <tr>\n",
       "      <th>17827</th>\n",
       "      <td>Nicaragua</td>\n",
       "      <td>2012</td>\n",
       "      <td>female</td>\n",
       "      <td>35-54 years</td>\n",
       "      <td>12</td>\n",
       "      <td>634573</td>\n",
       "      <td>1.89</td>\n",
       "      <td>Nicaragua2012</td>\n",
       "      <td>0.625</td>\n",
       "      <td>10,532,001,130</td>\n",
       "      <td>2006</td>\n",
       "      <td>Generation X</td>\n",
       "    </tr>\n",
       "    <tr>\n",
       "      <th>25504</th>\n",
       "      <td>Trinidad and Tobago</td>\n",
       "      <td>2001</td>\n",
       "      <td>male</td>\n",
       "      <td>75+ years</td>\n",
       "      <td>7</td>\n",
       "      <td>12351</td>\n",
       "      <td>56.68</td>\n",
       "      <td>Trinidad and Tobago2001</td>\n",
       "      <td>NaN</td>\n",
       "      <td>8,824,873,259</td>\n",
       "      <td>7458</td>\n",
       "      <td>Silent</td>\n",
       "    </tr>\n",
       "    <tr>\n",
       "      <th>27286</th>\n",
       "      <td>Uruguay</td>\n",
       "      <td>1990</td>\n",
       "      <td>female</td>\n",
       "      <td>55-74 years</td>\n",
       "      <td>25</td>\n",
       "      <td>283000</td>\n",
       "      <td>8.83</td>\n",
       "      <td>Uruguay1990</td>\n",
       "      <td>0.692</td>\n",
       "      <td>9,298,839,655</td>\n",
       "      <td>3281</td>\n",
       "      <td>G.I. Generation</td>\n",
       "    </tr>\n",
       "    <tr>\n",
       "      <th>22822</th>\n",
       "      <td>Slovakia</td>\n",
       "      <td>1996</td>\n",
       "      <td>male</td>\n",
       "      <td>35-54 years</td>\n",
       "      <td>242</td>\n",
       "      <td>723992</td>\n",
       "      <td>33.43</td>\n",
       "      <td>Slovakia1996</td>\n",
       "      <td>NaN</td>\n",
       "      <td>27,821,913,815</td>\n",
       "      <td>5529</td>\n",
       "      <td>Boomers</td>\n",
       "    </tr>\n",
       "  </tbody>\n",
       "</table>\n",
       "</div>"
      ],
      "text/plain": [
       "                   country  year     sex          age  suicides_no  \\\n",
       "20365    Republic of Korea  1996  female    75+ years          150   \n",
       "8569               Estonia  2012  female   5-14 years            0   \n",
       "10433              Grenada  1990  female  25-34 years            0   \n",
       "17827            Nicaragua  2012  female  35-54 years           12   \n",
       "25504  Trinidad and Tobago  2001    male    75+ years            7   \n",
       "27286              Uruguay  1990  female  55-74 years           25   \n",
       "22822             Slovakia  1996    male  35-54 years          242   \n",
       "\n",
       "       population  suicides/100k pop             country-year  HDI for year  \\\n",
       "20365      616700              24.32    Republic of Korea1996           NaN   \n",
       "8569        63330               0.00              Estonia2012         0.855   \n",
       "10433        4900               0.00              Grenada1990           NaN   \n",
       "17827      634573               1.89            Nicaragua2012         0.625   \n",
       "25504       12351              56.68  Trinidad and Tobago2001           NaN   \n",
       "27286      283000               8.83              Uruguay1990         0.692   \n",
       "22822      723992              33.43             Slovakia1996           NaN   \n",
       "\n",
       "       gdp_for_year ($)   gdp_per_capita ($)       generation  \n",
       "20365    598,099,073,901               14071  G.I. Generation  \n",
       "8569      23,043,864,510               18411     Generation Z  \n",
       "10433        278,098,778                3391          Boomers  \n",
       "17827     10,532,001,130                2006     Generation X  \n",
       "25504      8,824,873,259                7458           Silent  \n",
       "27286      9,298,839,655                3281  G.I. Generation  \n",
       "22822     27,821,913,815                5529          Boomers  "
      ]
     },
     "execution_count": 43,
     "metadata": {},
     "output_type": "execute_result"
    }
   ],
   "source": [
    "df = pd.read_csv('dataset.csv')\n",
    "df.sample(7)"
   ]
  },
  {
   "cell_type": "markdown",
   "metadata": {},
   "source": [
    "It is evident that our data consists of twelve independent variables which are:\n",
    "\n",
    "- country\n",
    "- year\n",
    "- sex\n",
    "- age\n",
    "- suicides_no: number of suicides\n",
    "- population\n",
    "- suicides/100k pop: number of suicides per 100k population\n",
    "- country-year\n",
    "- HDI for year: human development index (composite measure of societal development)\n",
    "- gdp_for_year: annual country GDP in dollars\n",
    "- gdp_per_capita: average GDP per person in dollars \n",
    "- generation: ['Generation X', 'Silent', 'Millenials', 'Boomers', 'G.I. Generation', 'Generation Z']\n",
    "\n",
    "Let's adjust them to our analysis.\n",
    "\n",
    "The 'country-year' column seems unnecessary since it duplicates information already present in the separate 'country' and 'year' columns."
   ]
  },
  {
   "cell_type": "code",
   "execution_count": 44,
   "metadata": {},
   "outputs": [],
   "source": [
    "column_name_mapping = {\n",
    "    'suicides/100k pop': 'suicides_per_100k',\n",
    "    'HDI for year': 'HDI_for_year',\n",
    "    ' gdp_for_year ($) ': 'gdp_for_year',\n",
    "    'gdp_per_capita ($)': 'gdp_per_capita'\n",
    "}\n",
    "\n",
    "df.rename(columns=column_name_mapping, inplace=True)\n",
    "df.drop('country-year', axis=1, inplace=True)"
   ]
  },
  {
   "cell_type": "markdown",
   "metadata": {},
   "source": [
    "Let's check the number of NaN values present in each column."
   ]
  },
  {
   "cell_type": "code",
   "execution_count": 45,
   "metadata": {},
   "outputs": [
    {
     "name": "stdout",
     "output_type": "stream",
     "text": [
      "\"country\" column consists of 0.00% missing values.\n",
      "\"year\" column consists of 0.00% missing values.\n",
      "\"sex\" column consists of 0.00% missing values.\n",
      "\"age\" column consists of 0.00% missing values.\n",
      "\"suicides_no\" column consists of 0.00% missing values.\n",
      "\"population\" column consists of 0.00% missing values.\n",
      "\"suicides_per_100k\" column consists of 0.00% missing values.\n",
      "\"HDI_for_year\" column consists of 69.94% missing values.\n",
      "\"gdp_for_year\" column consists of 0.00% missing values.\n",
      "\"gdp_per_capita\" column consists of 0.00% missing values.\n",
      "\"generation\" column consists of 0.00% missing values.\n"
     ]
    }
   ],
   "source": [
    "def check_missing_values(column):\n",
    "    nan_percentage = df[column].isnull().sum() / df[column].size\n",
    "    print(f'\"{column}\" column consists of {nan_percentage:.2%} missing values.')\n",
    "\n",
    "for column in df.columns:\n",
    "    check_missing_values(column)"
   ]
  },
  {
   "cell_type": "markdown",
   "metadata": {},
   "source": [
    "The 'HDI_for_year' column seems to have many NaN values. \n",
    "\n",
    "It's not a good idea to think about 'HDI_for_year' too much. Using the mean to fill in missing values could mess up the data. \n",
    "For example: really poor countries with very low HDI would be pushed up to the mean, creating inaccurate information.\n",
    "\n",
    "Let's leave out this column for now and come back to it later."
   ]
  },
  {
   "cell_type": "code",
   "execution_count": 46,
   "metadata": {},
   "outputs": [
    {
     "data": {
      "text/html": [
       "<div>\n",
       "<style scoped>\n",
       "    .dataframe tbody tr th:only-of-type {\n",
       "        vertical-align: middle;\n",
       "    }\n",
       "\n",
       "    .dataframe tbody tr th {\n",
       "        vertical-align: top;\n",
       "    }\n",
       "\n",
       "    .dataframe thead th {\n",
       "        text-align: right;\n",
       "    }\n",
       "</style>\n",
       "<table border=\"1\" class=\"dataframe\">\n",
       "  <thead>\n",
       "    <tr style=\"text-align: right;\">\n",
       "      <th></th>\n",
       "      <th>country</th>\n",
       "      <th>year</th>\n",
       "      <th>sex</th>\n",
       "      <th>age</th>\n",
       "      <th>suicides_no</th>\n",
       "      <th>population</th>\n",
       "      <th>suicides_per_100k</th>\n",
       "      <th>gdp_for_year</th>\n",
       "      <th>gdp_per_capita</th>\n",
       "      <th>generation</th>\n",
       "    </tr>\n",
       "  </thead>\n",
       "  <tbody>\n",
       "    <tr>\n",
       "      <th>2305</th>\n",
       "      <td>Azerbaijan</td>\n",
       "      <td>2001</td>\n",
       "      <td>male</td>\n",
       "      <td>25-34 years</td>\n",
       "      <td>40</td>\n",
       "      <td>603150</td>\n",
       "      <td>6.63</td>\n",
       "      <td>5,707,720,391</td>\n",
       "      <td>759</td>\n",
       "      <td>Generation X</td>\n",
       "    </tr>\n",
       "    <tr>\n",
       "      <th>18573</th>\n",
       "      <td>Paraguay</td>\n",
       "      <td>1985</td>\n",
       "      <td>female</td>\n",
       "      <td>35-54 years</td>\n",
       "      <td>3</td>\n",
       "      <td>278563</td>\n",
       "      <td>1.08</td>\n",
       "      <td>2,966,234,106</td>\n",
       "      <td>964</td>\n",
       "      <td>Silent</td>\n",
       "    </tr>\n",
       "    <tr>\n",
       "      <th>10258</th>\n",
       "      <td>Greece</td>\n",
       "      <td>2004</td>\n",
       "      <td>female</td>\n",
       "      <td>75+ years</td>\n",
       "      <td>3</td>\n",
       "      <td>451960</td>\n",
       "      <td>0.66</td>\n",
       "      <td>240,521,260,988</td>\n",
       "      <td>22804</td>\n",
       "      <td>Silent</td>\n",
       "    </tr>\n",
       "    <tr>\n",
       "      <th>6551</th>\n",
       "      <td>Croatia</td>\n",
       "      <td>2010</td>\n",
       "      <td>female</td>\n",
       "      <td>75+ years</td>\n",
       "      <td>46</td>\n",
       "      <td>221668</td>\n",
       "      <td>20.75</td>\n",
       "      <td>59,829,574,391</td>\n",
       "      <td>14232</td>\n",
       "      <td>Silent</td>\n",
       "    </tr>\n",
       "    <tr>\n",
       "      <th>227</th>\n",
       "      <td>Albania</td>\n",
       "      <td>2007</td>\n",
       "      <td>female</td>\n",
       "      <td>5-14 years</td>\n",
       "      <td>0</td>\n",
       "      <td>256808</td>\n",
       "      <td>0.00</td>\n",
       "      <td>10,701,011,897</td>\n",
       "      <td>3863</td>\n",
       "      <td>Generation Z</td>\n",
       "    </tr>\n",
       "    <tr>\n",
       "      <th>7661</th>\n",
       "      <td>Denmark</td>\n",
       "      <td>2014</td>\n",
       "      <td>female</td>\n",
       "      <td>75+ years</td>\n",
       "      <td>36</td>\n",
       "      <td>248889</td>\n",
       "      <td>14.46</td>\n",
       "      <td>352,993,633,221</td>\n",
       "      <td>66114</td>\n",
       "      <td>Silent</td>\n",
       "    </tr>\n",
       "    <tr>\n",
       "      <th>13024</th>\n",
       "      <td>Italy</td>\n",
       "      <td>2004</td>\n",
       "      <td>female</td>\n",
       "      <td>25-34 years</td>\n",
       "      <td>107</td>\n",
       "      <td>4225557</td>\n",
       "      <td>2.53</td>\n",
       "      <td>1,798,314,750,435</td>\n",
       "      <td>32704</td>\n",
       "      <td>Generation X</td>\n",
       "    </tr>\n",
       "  </tbody>\n",
       "</table>\n",
       "</div>"
      ],
      "text/plain": [
       "          country  year     sex          age  suicides_no  population  \\\n",
       "2305   Azerbaijan  2001    male  25-34 years           40      603150   \n",
       "18573    Paraguay  1985  female  35-54 years            3      278563   \n",
       "10258      Greece  2004  female    75+ years            3      451960   \n",
       "6551      Croatia  2010  female    75+ years           46      221668   \n",
       "227       Albania  2007  female   5-14 years            0      256808   \n",
       "7661      Denmark  2014  female    75+ years           36      248889   \n",
       "13024       Italy  2004  female  25-34 years          107     4225557   \n",
       "\n",
       "       suicides_per_100k       gdp_for_year  gdp_per_capita    generation  \n",
       "2305                6.63      5,707,720,391             759  Generation X  \n",
       "18573               1.08      2,966,234,106             964        Silent  \n",
       "10258               0.66    240,521,260,988           22804        Silent  \n",
       "6551               20.75     59,829,574,391           14232        Silent  \n",
       "227                 0.00     10,701,011,897            3863  Generation Z  \n",
       "7661               14.46    352,993,633,221           66114        Silent  \n",
       "13024               2.53  1,798,314,750,435           32704  Generation X  "
      ]
     },
     "execution_count": 46,
     "metadata": {},
     "output_type": "execute_result"
    }
   ],
   "source": [
    "df.drop('HDI_for_year', axis=1, inplace=True)\n",
    "df.sample(7)"
   ]
  },
  {
   "cell_type": "markdown",
   "metadata": {},
   "source": [
    "We're all set for analysis with our data."
   ]
  },
  {
   "cell_type": "markdown",
   "metadata": {},
   "source": [
    "## Global Annual Suicides"
   ]
  },
  {
   "cell_type": "markdown",
   "metadata": {},
   "source": [
    "Let's begin our analysis by visualizing the frequency of suicides committed over the years."
   ]
  },
  {
   "cell_type": "code",
   "execution_count": 47,
   "metadata": {},
   "outputs": [
    {
     "data": {
      "image/png": "[encoded data removed]",
      "text/plain": [
       "<Figure size 1152x432 with 1 Axes>"
      ]
     },
     "metadata": {
      "needs_background": "light"
     },
     "output_type": "display_data"
    }
   ],
   "source": [
    "suicides_per_year = df.groupby('year')['suicides_no'].sum()\n",
    "\n",
    "plt.figure(figsize=(16, 6)) \n",
    "\n",
    "plt.plot(suicides_per_year.index, suicides_per_year.values, color='red')\n",
    "\n",
    "plt.xlabel('Year', fontsize=14)\n",
    "plt.ylabel('No. suicides', fontsize=14)\n",
    "plt.title('Global Annual Suicides', fontsize=14)\n",
    "\n",
    "plt.grid()\n",
    "\n",
    "plt.xlim(min(suicides_per_year.keys()), max(suicides_per_year.keys()))\n",
    "\n",
    "plt.xticks(range(min(suicides_per_year.index), max(suicides_per_year.index)+3, 2))\n",
    "\n",
    "plt.show()"
   ]
  },
  {
   "cell_type": "markdown",
   "metadata": {},
   "source": [
    "Looking at the given data, we can notice a few important things:\n",
    "    \n",
    "- There is an increasing trend in the number of suicides from 1985 to around 2000.\n",
    "    \n",
    "- It appears that the pattern starts to vary with occasional increases and decreases, yet the values mostly stay within a consistent range. \n",
    "\n",
    "- There is an extremely low value for the year 2016, which is about 13 times lower than that of 2015. This could possibly mean there's an *outlier*, or it might indicate a powerful impact from our anti-suicidal strategy."
   ]
  },
  {
   "cell_type": "markdown",
   "metadata": {},
   "source": [
    "## Suicides by Gender"
   ]
  },
  {
   "cell_type": "code",
   "execution_count": 48,
   "metadata": {},
   "outputs": [
    {
     "data": {
      "image/png": "[encoded data removed]",
      "text/plain": [
       "<Figure size 720x432 with 1 Axes>"
      ]
     },
     "metadata": {
      "needs_background": "light"
     },
     "output_type": "display_data"
    }
   ],
   "source": [
    "gender_df = df.pivot_table(index='sex', columns='year', values='suicides_per_100k', aggfunc='mean')\n",
    "\n",
    "plt.figure(figsize=(10, 6))\n",
    "\n",
    "for gender in gender_df.index:\n",
    "    plt.plot(gender_df.columns, gender_df.loc[gender], label=gender)\n",
    "\n",
    "plt.title('Suicides per 100k by Gender', fontsize = 14)\n",
    "plt.xlabel('Year', fontsize = 14)\n",
    "plt.ylabel('Suicides per 100k', fontsize = 14)\n",
    "\n",
    "plt.legend()\n",
    "plt.grid()\n",
    "\n",
    "plt.xlim(min(suicides_per_year.keys()), max(suicides_per_year.keys()))\n",
    "\n",
    "plt.xticks(range(min(suicides_per_year.index), max(suicides_per_year.index)+3, 2))\n",
    "\n",
    "plt.tight_layout()\n",
    "\n",
    "plt.show()"
   ]
  },
  {
   "cell_type": "markdown",
   "metadata": {},
   "source": [
    "It's clear that males are about four times more likely to commit suicide than females. \n",
    "\n",
    "The highest point for suicides in both genders was in 1995, followed by a decline. However, there's a worrying sign that the rates might be starting to increase again."
   ]
  },
  {
   "cell_type": "markdown",
   "metadata": {},
   "source": [
    "## Suicides by Age"
   ]
  },
  {
   "cell_type": "code",
   "execution_count": 49,
   "metadata": {},
   "outputs": [
    {
     "data": {
      "image/png": "[encoded data removed]",
      "text/plain": [
       "<Figure size 1152x432 with 1 Axes>"
      ]
     },
     "metadata": {
      "needs_background": "light"
     },
     "output_type": "display_data"
    }
   ],
   "source": [
    "age_df = df.pivot_table(index='age', columns='year', values='suicides_per_100k', aggfunc='mean')\n",
    "\n",
    "plt.figure(figsize=(16, 6))\n",
    "\n",
    "for age_group in age_df.index:\n",
    "    plt.plot(age_df.columns, age_df.loc[age_group], label=age_group)\n",
    "\n",
    "plt.title('Suicides per 100k by Age Group', fontsize = 14)\n",
    "plt.xlabel('Year', fontsize = 14)\n",
    "plt.ylabel('Suicides per 100k', fontsize = 14)\n",
    "\n",
    "plt.legend()\n",
    "plt.grid()\n",
    "\n",
    "plt.xlim(min(suicides_per_year.keys()), max(suicides_per_year.keys()))\n",
    "\n",
    "plt.xticks(range(min(suicides_per_year.index), max(suicides_per_year.index)+3, 2))\n",
    "\n",
    "plt.tight_layout()\n",
    "\n",
    "plt.show()"
   ]
  },
  {
   "cell_type": "markdown",
   "metadata": {},
   "source": [
    "Among different age groups, those who are 75 years and older have the highest rate of suicide per 100,000 people. This means that they tend to experience suicide more often than other age groups. \n",
    "\n",
    "Fortunately, there seems to be a positive trend showing that overall, the frequency of these tragic events has been decreasing over the years."
   ]
  },
  {
   "cell_type": "markdown",
   "metadata": {},
   "source": [
    "# Geospatial Analysis"
   ]
  },
  {
   "cell_type": "markdown",
   "metadata": {},
   "source": [
    "Let's check out how suicides are spread out among different countries."
   ]
  },
  {
   "cell_type": "code",
   "execution_count": 50,
   "metadata": {},
   "outputs": [
    {
     "data": {
      "application/vnd.plotly.v1+json": {
       "config": {
        "plotlyServerURL": "https://plot.ly"
       },
       "data": [
        {
         "coloraxis": "coloraxis",
         "geo": "geo",
         "hovertemplate": "<b>%{hovertext}</b><br><br>country=%{location}<br>suicides_no=%{z}<extra></extra>",
         "hovertext": [
          "Albania",
          "Antigua and Barbuda",
          "Argentina",
          "Armenia",
          "Aruba",
          "Australia",
          "Austria",
          "Azerbaijan",
          "Bahamas",
          "Bahrain",
          "Barbados",
          "Belarus",
          "Belgium",
          "Belize",
          "Bosnia and Herzegovina",
          "Brazil",
          "Bulgaria",
          "Cabo Verde",
          "Canada",
          "Chile",
          "Colombia",
          "Costa Rica",
          "Croatia",
          "Cuba",
          "Cyprus",
          "Czech Republic",
          "Denmark",
          "Dominica",
          "Ecuador",
          "El Salvador",
          "Estonia",
          "Fiji",
          "Finland",
          "France",
          "Georgia",
          "Germany",
          "Greece",
          "Grenada",
          "Guatemala",
          "Guyana",
          "Hungary",
          "Iceland",
          "Ireland",
          "Israel",
          "Italy",
          "Jamaica",
          "Japan",
          "Kazakhstan",
          "Kiribati",
          "Kuwait",
          "Kyrgyzstan",
          "Latvia",
          "Lithuania",
          "Luxembourg",
          "Macau",
          "Maldives",
          "Malta",
          "Mauritius",
          "Mexico",
          "Mongolia",
          "Montenegro",
          "Netherlands",
          "New Zealand",
          "Nicaragua",
          "Norway",
          "Oman",
          "Panama",
          "Paraguay",
          "Philippines",
          "Poland",
          "Portugal",
          "Puerto Rico",
          "Qatar",
          "Republic of Korea",
          "Romania",
          "Russian Federation",
          "Saint Kitts and Nevis",
          "Saint Lucia",
          "Saint Vincent and Grenadines",
          "San Marino",
          "Serbia",
          "Seychelles",
          "Singapore",
          "Slovakia",
          "Slovenia",
          "South Africa",
          "Spain",
          "Sri Lanka",
          "Suriname",
          "Sweden",
          "Switzerland",
          "Thailand",
          "Trinidad and Tobago",
          "Turkey",
          "Turkmenistan",
          "Ukraine",
          "United Arab Emirates",
          "United Kingdom",
          "United States",
          "Uruguay",
          "Uzbekistan"
         ],
         "locationmode": "country names",
         "locations": [
          "Albania",
          "Antigua and Barbuda",
          "Argentina",
          "Armenia",
          "Aruba",
          "Australia",
          "Austria",
          "Azerbaijan",
          "Bahamas",
          "Bahrain",
          "Barbados",
          "Belarus",
          "Belgium",
          "Belize",
          "Bosnia and Herzegovina",
          "Brazil",
          "Bulgaria",
          "Cabo Verde",
          "Canada",
          "Chile",
          "Colombia",
          "Costa Rica",
          "Croatia",
          "Cuba",
          "Cyprus",
          "Czech Republic",
          "Denmark",
          "Dominica",
          "Ecuador",
          "El Salvador",
          "Estonia",
          "Fiji",
          "Finland",
          "France",
          "Georgia",
          "Germany",
          "Greece",
          "Grenada",
          "Guatemala",
          "Guyana",
          "Hungary",
          "Iceland",
          "Ireland",
          "Israel",
          "Italy",
          "Jamaica",
          "Japan",
          "Kazakhstan",
          "Kiribati",
          "Kuwait",
          "Kyrgyzstan",
          "Latvia",
          "Lithuania",
          "Luxembourg",
          "Macau",
          "Maldives",
          "Malta",
          "Mauritius",
          "Mexico",
          "Mongolia",
          "Montenegro",
          "Netherlands",
          "New Zealand",
          "Nicaragua",
          "Norway",
          "Oman",
          "Panama",
          "Paraguay",
          "Philippines",
          "Poland",
          "Portugal",
          "Puerto Rico",
          "Qatar",
          "Republic of Korea",
          "Romania",
          "Russian Federation",
          "Saint Kitts and Nevis",
          "Saint Lucia",
          "Saint Vincent and Grenadines",
          "San Marino",
          "Serbia",
          "Seychelles",
          "Singapore",
          "Slovakia",
          "Slovenia",
          "South Africa",
          "Spain",
          "Sri Lanka",
          "Suriname",
          "Sweden",
          "Switzerland",
          "Thailand",
          "Trinidad and Tobago",
          "Turkey",
          "Turkmenistan",
          "Ukraine",
          "United Arab Emirates",
          "United Kingdom",
          "United States",
          "Uruguay",
          "Uzbekistan"
         ],
         "name": "",
         "type": "choropleth",
         "z": [
          1970,
          11,
          82219,
          1905,
          101,
          70111,
          50073,
          1656,
          93,
          463,
          177,
          59892,
          62761,
          348,
          318,
          226613,
          36388,
          42,
          107561,
          40895,
          53080,
          6792,
          18429,
          41418,
          412,
          43687,
          15297,
          0,
          20660,
          11683,
          7034,
          304,
          33677,
          329127,
          3224,
          291262,
          12368,
          38,
          8149,
          3426,
          73891,
          1108,
          12574,
          11294,
          132060,
          184,
          806902,
          101546,
          53,
          966,
          13090,
          12770,
          28039,
          1958,
          27,
          20,
          585,
          3894,
          111139,
          423,
          472,
          50833,
          14383,
          2013,
          16992,
          33,
          3483,
          4783,
          21330,
          139098,
          24061,
          9043,
          574,
          261730,
          72777,
          1209742,
          0,
          230,
          124,
          4,
          24179,
          98,
          10089,
          13437,
          10615,
          7321,
          100202,
          55641,
          2166,
          37795,
          26217,
          110643,
          4039,
          10131,
          8624,
          319950,
          622,
          136805,
          1034013,
          13138,
          34803
         ]
        }
       ],
       "layout": {
        "coloraxis": {
         "colorbar": {
          "title": {
           "text": "suicides_no"
          }
         },
         "colorscale": [
          [
           0,
           "#0d0887"
          ],
          [
           0.1111111111111111,
           "#46039f"
          ],
          [
           0.2222222222222222,
           "#7201a8"
          ],
          [
           0.3333333333333333,
           "#9c179e"
          ],
          [
           0.4444444444444444,
           "#bd3786"
          ],
          [
           0.5555555555555556,
           "#d8576b"
          ],
          [
           0.6666666666666666,
           "#ed7953"
          ],
          [
           0.7777777777777778,
           "#fb9f3a"
          ],
          [
           0.8888888888888888,
           "#fdca26"
          ],
          [
           1,
           "#f0f921"
          ]
         ]
        },
        "geo": {
         "center": {},
         "domain": {
          "x": [
           0,
           1
          ],
          "y": [
           0,
           1
          ]
         }
        },
        "legend": {
         "tracegroupgap": 0
        },
        "template": {
         "data": {
          "bar": [
           {
            "error_x": {
             "color": "#2a3f5f"
            },
            "error_y": {
             "color": "#2a3f5f"
            },
            "marker": {
             "line": {
              "color": "#E5ECF6",
              "width": 0.5
             },
             "pattern": {
              "fillmode": "overlay",
              "size": 10,
              "solidity": 0.2
             }
            },
            "type": "bar"
           }
          ],
          "barpolar": [
           {
            "marker": {
             "line": {
              "color": "#E5ECF6",
              "width": 0.5
             },
             "pattern": {
              "fillmode": "overlay",
              "size": 10,
              "solidity": 0.2
             }
            },
            "type": "barpolar"
           }
          ],
          "carpet": [
           {
            "aaxis": {
             "endlinecolor": "#2a3f5f",
             "gridcolor": "white",
             "linecolor": "white",
             "minorgridcolor": "white",
             "startlinecolor": "#2a3f5f"
            },
            "baxis": {
             "endlinecolor": "#2a3f5f",
             "gridcolor": "white",
             "linecolor": "white",
             "minorgridcolor": "white",
             "startlinecolor": "#2a3f5f"
            },
            "type": "carpet"
           }
          ],
          "choropleth": [
           {
            "colorbar": {
             "outlinewidth": 0,
             "ticks": ""
            },
            "type": "choropleth"
           }
          ],
          "contour": [
           {
            "colorbar": {
             "outlinewidth": 0,
             "ticks": ""
            },
            "colorscale": [
             [
              0,
              "#0d0887"
             ],
             [
              0.1111111111111111,
              "#46039f"
             ],
             [
              0.2222222222222222,
              "#7201a8"
             ],
             [
              0.3333333333333333,
              "#9c179e"
             ],
             [
              0.4444444444444444,
              "#bd3786"
             ],
             [
              0.5555555555555556,
              "#d8576b"
             ],
             [
              0.6666666666666666,
              "#ed7953"
             ],
             [
              0.7777777777777778,
              "#fb9f3a"
             ],
             [
              0.8888888888888888,
              "#fdca26"
             ],
             [
              1,
              "#f0f921"
             ]
            ],
            "type": "contour"
           }
          ],
          "contourcarpet": [
           {
            "colorbar": {
             "outlinewidth": 0,
             "ticks": ""
            },
            "type": "contourcarpet"
           }
          ],
          "heatmap": [
           {
            "colorbar": {
             "outlinewidth": 0,
             "ticks": ""
            },
            "colorscale": [
             [
              0,
              "#0d0887"
             ],
             [
              0.1111111111111111,
              "#46039f"
             ],
             [
              0.2222222222222222,
              "#7201a8"
             ],
             [
              0.3333333333333333,
              "#9c179e"
             ],
             [
              0.4444444444444444,
              "#bd3786"
             ],
             [
              0.5555555555555556,
              "#d8576b"
             ],
             [
              0.6666666666666666,
              "#ed7953"
             ],
             [
              0.7777777777777778,
              "#fb9f3a"
             ],
             [
              0.8888888888888888,
              "#fdca26"
             ],
             [
              1,
              "#f0f921"
             ]
            ],
            "type": "heatmap"
           }
          ],
          "heatmapgl": [
           {
            "colorbar": {
             "outlinewidth": 0,
             "ticks": ""
            },
            "colorscale": [
             [
              0,
              "#0d0887"
             ],
             [
              0.1111111111111111,
              "#46039f"
             ],
             [
              0.2222222222222222,
              "#7201a8"
             ],
             [
              0.3333333333333333,
              "#9c179e"
             ],
             [
              0.4444444444444444,
              "#bd3786"
             ],
             [
              0.5555555555555556,
              "#d8576b"
             ],
             [
              0.6666666666666666,
              "#ed7953"
             ],
             [
              0.7777777777777778,
              "#fb9f3a"
             ],
             [
              0.8888888888888888,
              "#fdca26"
             ],
             [
              1,
              "#f0f921"
             ]
            ],
            "type": "heatmapgl"
           }
          ],
          "histogram": [
           {
            "marker": {
             "pattern": {
              "fillmode": "overlay",
              "size": 10,
              "solidity": 0.2
             }
            },
            "type": "histogram"
           }
          ],
          "histogram2d": [
           {
            "colorbar": {
             "outlinewidth": 0,
             "ticks": ""
            },
            "colorscale": [
             [
              0,
              "#0d0887"
             ],
             [
              0.1111111111111111,
              "#46039f"
             ],
             [
              0.2222222222222222,
              "#7201a8"
             ],
             [
              0.3333333333333333,
              "#9c179e"
             ],
             [
              0.4444444444444444,
              "#bd3786"
             ],
             [
              0.5555555555555556,
              "#d8576b"
             ],
             [
              0.6666666666666666,
              "#ed7953"
             ],
             [
              0.7777777777777778,
              "#fb9f3a"
             ],
             [
              0.8888888888888888,
              "#fdca26"
             ],
             [
              1,
              "#f0f921"
             ]
            ],
            "type": "histogram2d"
           }
          ],
          "histogram2dcontour": [
           {
            "colorbar": {
             "outlinewidth": 0,
             "ticks": ""
            },
            "colorscale": [
             [
              0,
              "#0d0887"
             ],
             [
              0.1111111111111111,
              "#46039f"
             ],
             [
              0.2222222222222222,
              "#7201a8"
             ],
             [
              0.3333333333333333,
              "#9c179e"
             ],
             [
              0.4444444444444444,
              "#bd3786"
             ],
             [
              0.5555555555555556,
              "#d8576b"
             ],
             [
              0.6666666666666666,
              "#ed7953"
             ],
             [
              0.7777777777777778,
              "#fb9f3a"
             ],
             [
              0.8888888888888888,
              "#fdca26"
             ],
             [
              1,
              "#f0f921"
             ]
            ],
            "type": "histogram2dcontour"
           }
          ],
          "mesh3d": [
           {
            "colorbar": {
             "outlinewidth": 0,
             "ticks": ""
            },
            "type": "mesh3d"
           }
          ],
          "parcoords": [
           {
            "line": {
             "colorbar": {
              "outlinewidth": 0,
              "ticks": ""
             }
            },
            "type": "parcoords"
           }
          ],
          "pie": [
           {
            "automargin": true,
            "type": "pie"
           }
          ],
          "scatter": [
           {
            "marker": {
             "colorbar": {
              "outlinewidth": 0,
              "ticks": ""
             }
            },
            "type": "scatter"
           }
          ],
          "scatter3d": [
           {
            "line": {
             "colorbar": {
              "outlinewidth": 0,
              "ticks": ""
             }
            },
            "marker": {
             "colorbar": {
              "outlinewidth": 0,
              "ticks": ""
             }
            },
            "type": "scatter3d"
           }
          ],
          "scattercarpet": [
           {
            "marker": {
             "colorbar": {
              "outlinewidth": 0,
              "ticks": ""
             }
            },
            "type": "scattercarpet"
           }
          ],
          "scattergeo": [
           {
            "marker": {
             "colorbar": {
              "outlinewidth": 0,
              "ticks": ""
             }
            },
            "type": "scattergeo"
           }
          ],
          "scattergl": [
           {
            "marker": {
             "colorbar": {
              "outlinewidth": 0,
              "ticks": ""
             }
            },
            "type": "scattergl"
           }
          ],
          "scattermapbox": [
           {
            "marker": {
             "colorbar": {
              "outlinewidth": 0,
              "ticks": ""
             }
            },
            "type": "scattermapbox"
           }
          ],
          "scatterpolar": [
           {
            "marker": {
             "colorbar": {
              "outlinewidth": 0,
              "ticks": ""
             }
            },
            "type": "scatterpolar"
           }
          ],
          "scatterpolargl": [
           {
            "marker": {
             "colorbar": {
              "outlinewidth": 0,
              "ticks": ""
             }
            },
            "type": "scatterpolargl"
           }
          ],
          "scatterternary": [
           {
            "marker": {
             "colorbar": {
              "outlinewidth": 0,
              "ticks": ""
             }
            },
            "type": "scatterternary"
           }
          ],
          "surface": [
           {
            "colorbar": {
             "outlinewidth": 0,
             "ticks": ""
            },
            "colorscale": [
             [
              0,
              "#0d0887"
             ],
             [
              0.1111111111111111,
              "#46039f"
             ],
             [
              0.2222222222222222,
              "#7201a8"
             ],
             [
              0.3333333333333333,
              "#9c179e"
             ],
             [
              0.4444444444444444,
              "#bd3786"
             ],
             [
              0.5555555555555556,
              "#d8576b"
             ],
             [
              0.6666666666666666,
              "#ed7953"
             ],
             [
              0.7777777777777778,
              "#fb9f3a"
             ],
             [
              0.8888888888888888,
              "#fdca26"
             ],
             [
              1,
              "#f0f921"
             ]
            ],
            "type": "surface"
           }
          ],
          "table": [
           {
            "cells": {
             "fill": {
              "color": "#EBF0F8"
             },
             "line": {
              "color": "white"
             }
            },
            "header": {
             "fill": {
              "color": "#C8D4E3"
             },
             "line": {
              "color": "white"
             }
            },
            "type": "table"
           }
          ]
         },
         "layout": {
          "annotationdefaults": {
           "arrowcolor": "#2a3f5f",
           "arrowhead": 0,
           "arrowwidth": 1
          },
          "autotypenumbers": "strict",
          "coloraxis": {
           "colorbar": {
            "outlinewidth": 0,
            "ticks": ""
           }
          },
          "colorscale": {
           "diverging": [
            [
             0,
             "#8e0152"
            ],
            [
             0.1,
             "#c51b7d"
            ],
            [
             0.2,
             "#de77ae"
            ],
            [
             0.3,
             "#f1b6da"
            ],
            [
             0.4,
             "#fde0ef"
            ],
            [
             0.5,
             "#f7f7f7"
            ],
            [
             0.6,
             "#e6f5d0"
            ],
            [
             0.7,
             "#b8e186"
            ],
            [
             0.8,
             "#7fbc41"
            ],
            [
             0.9,
             "#4d9221"
            ],
            [
             1,
             "#276419"
            ]
           ],
           "sequential": [
            [
             0,
             "#0d0887"
            ],
            [
             0.1111111111111111,
             "#46039f"
            ],
            [
             0.2222222222222222,
             "#7201a8"
            ],
            [
             0.3333333333333333,
             "#9c179e"
            ],
            [
             0.4444444444444444,
             "#bd3786"
            ],
            [
             0.5555555555555556,
             "#d8576b"
            ],
            [
             0.6666666666666666,
             "#ed7953"
            ],
            [
             0.7777777777777778,
             "#fb9f3a"
            ],
            [
             0.8888888888888888,
             "#fdca26"
            ],
            [
             1,
             "#f0f921"
            ]
           ],
           "sequentialminus": [
            [
             0,
             "#0d0887"
            ],
            [
             0.1111111111111111,
             "#46039f"
            ],
            [
             0.2222222222222222,
             "#7201a8"
            ],
            [
             0.3333333333333333,
             "#9c179e"
            ],
            [
             0.4444444444444444,
             "#bd3786"
            ],
            [
             0.5555555555555556,
             "#d8576b"
            ],
            [
             0.6666666666666666,
             "#ed7953"
            ],
            [
             0.7777777777777778,
             "#fb9f3a"
            ],
            [
             0.8888888888888888,
             "#fdca26"
            ],
            [
             1,
             "#f0f921"
            ]
           ]
          },
          "colorway": [
           "#636efa",
           "#EF553B",
           "#00cc96",
           "#ab63fa",
           "#FFA15A",
           "#19d3f3",
           "#FF6692",
           "#B6E880",
           "#FF97FF",
           "#FECB52"
          ],
          "font": {
           "color": "#2a3f5f"
          },
          "geo": {
           "bgcolor": "white",
           "lakecolor": "white",
           "landcolor": "#E5ECF6",
           "showlakes": true,
           "showland": true,
           "subunitcolor": "white"
          },
          "hoverlabel": {
           "align": "left"
          },
          "hovermode": "closest",
          "mapbox": {
           "style": "light"
          },
          "paper_bgcolor": "white",
          "plot_bgcolor": "#E5ECF6",
          "polar": {
           "angularaxis": {
            "gridcolor": "white",
            "linecolor": "white",
            "ticks": ""
           },
           "bgcolor": "#E5ECF6",
           "radialaxis": {
            "gridcolor": "white",
            "linecolor": "white",
            "ticks": ""
           }
          },
          "scene": {
           "xaxis": {
            "backgroundcolor": "#E5ECF6",
            "gridcolor": "white",
            "gridwidth": 2,
            "linecolor": "white",
            "showbackground": true,
            "ticks": "",
            "zerolinecolor": "white"
           },
           "yaxis": {
            "backgroundcolor": "#E5ECF6",
            "gridcolor": "white",
            "gridwidth": 2,
            "linecolor": "white",
            "showbackground": true,
            "ticks": "",
            "zerolinecolor": "white"
           },
           "zaxis": {
            "backgroundcolor": "#E5ECF6",
            "gridcolor": "white",
            "gridwidth": 2,
            "linecolor": "white",
            "showbackground": true,
            "ticks": "",
            "zerolinecolor": "white"
           }
          },
          "shapedefaults": {
           "line": {
            "color": "#2a3f5f"
           }
          },
          "ternary": {
           "aaxis": {
            "gridcolor": "white",
            "linecolor": "white",
            "ticks": ""
           },
           "baxis": {
            "gridcolor": "white",
            "linecolor": "white",
            "ticks": ""
           },
           "bgcolor": "#E5ECF6",
           "caxis": {
            "gridcolor": "white",
            "linecolor": "white",
            "ticks": ""
           }
          },
          "title": {
           "x": 0.05
          },
          "xaxis": {
           "automargin": true,
           "gridcolor": "white",
           "linecolor": "white",
           "ticks": "",
           "title": {
            "standoff": 15
           },
           "zerolinecolor": "white",
           "zerolinewidth": 2
          },
          "yaxis": {
           "automargin": true,
           "gridcolor": "white",
           "linecolor": "white",
           "ticks": "",
           "title": {
            "standoff": 15
           },
           "zerolinecolor": "white",
           "zerolinewidth": 2
          }
         }
        },
        "title": {
         "text": "Suicides by Country"
        }
       }
      }
     },
     "metadata": {},
     "output_type": "display_data"
    }
   ],
   "source": [
    "country_suicides = df.groupby('country')['suicides_no'].sum().reset_index()\n",
    "\n",
    "fig = px.choropleth(country_suicides, \n",
    "                    locations='country', \n",
    "                    locationmode='country names', \n",
    "                    color='suicides_no', \n",
    "                    title='Suicides by Country',\n",
    "                    hover_name='country', \n",
    "                    color_continuous_scale='Plasma')\n",
    "\n",
    "fig.show()"
   ]
  },
  {
   "cell_type": "code",
   "execution_count": 51,
   "metadata": {},
   "outputs": [
    {
     "data": {
      "text/html": [
       "<style type=\"text/css\">\n",
       "#T_76b6c_row0_col1 {\n",
       "  background-color: #7f2704;\n",
       "  color: #f1f1f1;\n",
       "}\n",
       "#T_76b6c_row1_col1 {\n",
       "  background-color: #ae3903;\n",
       "  color: #f1f1f1;\n",
       "}\n",
       "#T_76b6c_row2_col1 {\n",
       "  background-color: #e95e0d;\n",
       "  color: #f1f1f1;\n",
       "}\n",
       "#T_76b6c_row3_col1 {\n",
       "  background-color: #fdca99;\n",
       "  color: #000000;\n",
       "}\n",
       "#T_76b6c_row4_col1 {\n",
       "  background-color: #fdcd9c;\n",
       "  color: #000000;\n",
       "}\n",
       "#T_76b6c_row5_col1 {\n",
       "  background-color: #fdd2a6;\n",
       "  color: #000000;\n",
       "}\n",
       "#T_76b6c_row6_col1 {\n",
       "  background-color: #fdd6ae;\n",
       "  color: #000000;\n",
       "}\n",
       "#T_76b6c_row7_col1 {\n",
       "  background-color: #fedcb9;\n",
       "  color: #000000;\n",
       "}\n",
       "#T_76b6c_row8_col1 {\n",
       "  background-color: #fee7d1;\n",
       "  color: #000000;\n",
       "}\n",
       "#T_76b6c_row9_col1, #T_76b6c_row10_col1 {\n",
       "  background-color: #fee8d2;\n",
       "  color: #000000;\n",
       "}\n",
       "#T_76b6c_row11_col1, #T_76b6c_row12_col1 {\n",
       "  background-color: #feead6;\n",
       "  color: #000000;\n",
       "}\n",
       "#T_76b6c_row13_col1 {\n",
       "  background-color: #feebd7;\n",
       "  color: #000000;\n",
       "}\n",
       "#T_76b6c_row14_col1, #T_76b6c_row15_col1 {\n",
       "  background-color: #feebd8;\n",
       "  color: #000000;\n",
       "}\n",
       "#T_76b6c_row16_col1 {\n",
       "  background-color: #feeddc;\n",
       "  color: #000000;\n",
       "}\n",
       "#T_76b6c_row17_col1, #T_76b6c_row18_col1 {\n",
       "  background-color: #ffeedd;\n",
       "  color: #000000;\n",
       "}\n",
       "#T_76b6c_row19_col1 {\n",
       "  background-color: #ffeede;\n",
       "  color: #000000;\n",
       "}\n",
       "#T_76b6c_row20_col1 {\n",
       "  background-color: #ffefdf;\n",
       "  color: #000000;\n",
       "}\n",
       "#T_76b6c_row21_col1 {\n",
       "  background-color: #ffefe0;\n",
       "  color: #000000;\n",
       "}\n",
       "#T_76b6c_row22_col1, #T_76b6c_row23_col1 {\n",
       "  background-color: #fff0e1;\n",
       "  color: #000000;\n",
       "}\n",
       "#T_76b6c_row24_col1, #T_76b6c_row25_col1 {\n",
       "  background-color: #fff0e2;\n",
       "  color: #000000;\n",
       "}\n",
       "#T_76b6c_row26_col1 {\n",
       "  background-color: #fff1e3;\n",
       "  color: #000000;\n",
       "}\n",
       "#T_76b6c_row27_col1, #T_76b6c_row28_col1 {\n",
       "  background-color: #fff1e4;\n",
       "  color: #000000;\n",
       "}\n",
       "#T_76b6c_row29_col1, #T_76b6c_row30_col1, #T_76b6c_row31_col1, #T_76b6c_row32_col1 {\n",
       "  background-color: #fff2e5;\n",
       "  color: #000000;\n",
       "}\n",
       "#T_76b6c_row33_col1, #T_76b6c_row34_col1, #T_76b6c_row35_col1, #T_76b6c_row36_col1 {\n",
       "  background-color: #fff3e6;\n",
       "  color: #000000;\n",
       "}\n",
       "#T_76b6c_row37_col1, #T_76b6c_row38_col1 {\n",
       "  background-color: #fff3e7;\n",
       "  color: #000000;\n",
       "}\n",
       "#T_76b6c_row39_col1, #T_76b6c_row40_col1, #T_76b6c_row41_col1, #T_76b6c_row42_col1 {\n",
       "  background-color: #fff4e8;\n",
       "  color: #000000;\n",
       "}\n",
       "#T_76b6c_row43_col1, #T_76b6c_row44_col1, #T_76b6c_row45_col1, #T_76b6c_row46_col1, #T_76b6c_row47_col1, #T_76b6c_row48_col1, #T_76b6c_row49_col1, #T_76b6c_row50_col1, #T_76b6c_row51_col1, #T_76b6c_row52_col1, #T_76b6c_row53_col1 {\n",
       "  background-color: #fff4e9;\n",
       "  color: #000000;\n",
       "}\n",
       "#T_76b6c_row54_col1, #T_76b6c_row55_col1, #T_76b6c_row56_col1, #T_76b6c_row57_col1, #T_76b6c_row58_col1, #T_76b6c_row59_col1, #T_76b6c_row60_col1 {\n",
       "  background-color: #fff5ea;\n",
       "  color: #000000;\n",
       "}\n",
       "#T_76b6c_row61_col1, #T_76b6c_row62_col1, #T_76b6c_row63_col1, #T_76b6c_row64_col1, #T_76b6c_row65_col1, #T_76b6c_row66_col1, #T_76b6c_row67_col1, #T_76b6c_row68_col1, #T_76b6c_row69_col1, #T_76b6c_row70_col1, #T_76b6c_row71_col1, #T_76b6c_row72_col1, #T_76b6c_row73_col1, #T_76b6c_row74_col1, #T_76b6c_row75_col1, #T_76b6c_row76_col1, #T_76b6c_row77_col1, #T_76b6c_row78_col1, #T_76b6c_row79_col1, #T_76b6c_row80_col1, #T_76b6c_row81_col1, #T_76b6c_row82_col1, #T_76b6c_row83_col1, #T_76b6c_row84_col1, #T_76b6c_row85_col1, #T_76b6c_row86_col1, #T_76b6c_row87_col1, #T_76b6c_row88_col1, #T_76b6c_row89_col1, #T_76b6c_row90_col1, #T_76b6c_row91_col1, #T_76b6c_row92_col1, #T_76b6c_row93_col1, #T_76b6c_row94_col1, #T_76b6c_row95_col1, #T_76b6c_row96_col1, #T_76b6c_row97_col1, #T_76b6c_row98_col1, #T_76b6c_row99_col1, #T_76b6c_row100_col1 {\n",
       "  background-color: #fff5eb;\n",
       "  color: #000000;\n",
       "}\n",
       "</style>\n",
       "<table id=\"T_76b6c\">\n",
       "  <thead>\n",
       "    <tr>\n",
       "      <th class=\"blank level0\" >&nbsp;</th>\n",
       "      <th id=\"T_76b6c_level0_col0\" class=\"col_heading level0 col0\" >country</th>\n",
       "      <th id=\"T_76b6c_level0_col1\" class=\"col_heading level0 col1\" >suicides_no</th>\n",
       "    </tr>\n",
       "  </thead>\n",
       "  <tbody>\n",
       "    <tr>\n",
       "      <th id=\"T_76b6c_level0_row0\" class=\"row_heading level0 row0\" >75</th>\n",
       "      <td id=\"T_76b6c_row0_col0\" class=\"data row0 col0\" >Russian Federation</td>\n",
       "      <td id=\"T_76b6c_row0_col1\" class=\"data row0 col1\" >1209742</td>\n",
       "    </tr>\n",
       "    <tr>\n",
       "      <th id=\"T_76b6c_level0_row1\" class=\"row_heading level0 row1\" >98</th>\n",
       "      <td id=\"T_76b6c_row1_col0\" class=\"data row1 col0\" >United States</td>\n",
       "      <td id=\"T_76b6c_row1_col1\" class=\"data row1 col1\" >1034013</td>\n",
       "    </tr>\n",
       "    <tr>\n",
       "      <th id=\"T_76b6c_level0_row2\" class=\"row_heading level0 row2\" >46</th>\n",
       "      <td id=\"T_76b6c_row2_col0\" class=\"data row2 col0\" >Japan</td>\n",
       "      <td id=\"T_76b6c_row2_col1\" class=\"data row2 col1\" >806902</td>\n",
       "    </tr>\n",
       "    <tr>\n",
       "      <th id=\"T_76b6c_level0_row3\" class=\"row_heading level0 row3\" >33</th>\n",
       "      <td id=\"T_76b6c_row3_col0\" class=\"data row3 col0\" >France</td>\n",
       "      <td id=\"T_76b6c_row3_col1\" class=\"data row3 col1\" >329127</td>\n",
       "    </tr>\n",
       "    <tr>\n",
       "      <th id=\"T_76b6c_level0_row4\" class=\"row_heading level0 row4\" >95</th>\n",
       "      <td id=\"T_76b6c_row4_col0\" class=\"data row4 col0\" >Ukraine</td>\n",
       "      <td id=\"T_76b6c_row4_col1\" class=\"data row4 col1\" >319950</td>\n",
       "    </tr>\n",
       "    <tr>\n",
       "      <th id=\"T_76b6c_level0_row5\" class=\"row_heading level0 row5\" >35</th>\n",
       "      <td id=\"T_76b6c_row5_col0\" class=\"data row5 col0\" >Germany</td>\n",
       "      <td id=\"T_76b6c_row5_col1\" class=\"data row5 col1\" >291262</td>\n",
       "    </tr>\n",
       "    <tr>\n",
       "      <th id=\"T_76b6c_level0_row6\" class=\"row_heading level0 row6\" >73</th>\n",
       "      <td id=\"T_76b6c_row6_col0\" class=\"data row6 col0\" >Republic of Korea</td>\n",
       "      <td id=\"T_76b6c_row6_col1\" class=\"data row6 col1\" >261730</td>\n",
       "    </tr>\n",
       "    <tr>\n",
       "      <th id=\"T_76b6c_level0_row7\" class=\"row_heading level0 row7\" >15</th>\n",
       "      <td id=\"T_76b6c_row7_col0\" class=\"data row7 col0\" >Brazil</td>\n",
       "      <td id=\"T_76b6c_row7_col1\" class=\"data row7 col1\" >226613</td>\n",
       "    </tr>\n",
       "    <tr>\n",
       "      <th id=\"T_76b6c_level0_row8\" class=\"row_heading level0 row8\" >69</th>\n",
       "      <td id=\"T_76b6c_row8_col0\" class=\"data row8 col0\" >Poland</td>\n",
       "      <td id=\"T_76b6c_row8_col1\" class=\"data row8 col1\" >139098</td>\n",
       "    </tr>\n",
       "    <tr>\n",
       "      <th id=\"T_76b6c_level0_row9\" class=\"row_heading level0 row9\" >97</th>\n",
       "      <td id=\"T_76b6c_row9_col0\" class=\"data row9 col0\" >United Kingdom</td>\n",
       "      <td id=\"T_76b6c_row9_col1\" class=\"data row9 col1\" >136805</td>\n",
       "    </tr>\n",
       "    <tr>\n",
       "      <th id=\"T_76b6c_level0_row10\" class=\"row_heading level0 row10\" >44</th>\n",
       "      <td id=\"T_76b6c_row10_col0\" class=\"data row10 col0\" >Italy</td>\n",
       "      <td id=\"T_76b6c_row10_col1\" class=\"data row10 col1\" >132060</td>\n",
       "    </tr>\n",
       "    <tr>\n",
       "      <th id=\"T_76b6c_level0_row11\" class=\"row_heading level0 row11\" >58</th>\n",
       "      <td id=\"T_76b6c_row11_col0\" class=\"data row11 col0\" >Mexico</td>\n",
       "      <td id=\"T_76b6c_row11_col1\" class=\"data row11 col1\" >111139</td>\n",
       "    </tr>\n",
       "    <tr>\n",
       "      <th id=\"T_76b6c_level0_row12\" class=\"row_heading level0 row12\" >91</th>\n",
       "      <td id=\"T_76b6c_row12_col0\" class=\"data row12 col0\" >Thailand</td>\n",
       "      <td id=\"T_76b6c_row12_col1\" class=\"data row12 col1\" >110643</td>\n",
       "    </tr>\n",
       "    <tr>\n",
       "      <th id=\"T_76b6c_level0_row13\" class=\"row_heading level0 row13\" >18</th>\n",
       "      <td id=\"T_76b6c_row13_col0\" class=\"data row13 col0\" >Canada</td>\n",
       "      <td id=\"T_76b6c_row13_col1\" class=\"data row13 col1\" >107561</td>\n",
       "    </tr>\n",
       "    <tr>\n",
       "      <th id=\"T_76b6c_level0_row14\" class=\"row_heading level0 row14\" >47</th>\n",
       "      <td id=\"T_76b6c_row14_col0\" class=\"data row14 col0\" >Kazakhstan</td>\n",
       "      <td id=\"T_76b6c_row14_col1\" class=\"data row14 col1\" >101546</td>\n",
       "    </tr>\n",
       "    <tr>\n",
       "      <th id=\"T_76b6c_level0_row15\" class=\"row_heading level0 row15\" >86</th>\n",
       "      <td id=\"T_76b6c_row15_col0\" class=\"data row15 col0\" >Spain</td>\n",
       "      <td id=\"T_76b6c_row15_col1\" class=\"data row15 col1\" >100202</td>\n",
       "    </tr>\n",
       "    <tr>\n",
       "      <th id=\"T_76b6c_level0_row16\" class=\"row_heading level0 row16\" >2</th>\n",
       "      <td id=\"T_76b6c_row16_col0\" class=\"data row16 col0\" >Argentina</td>\n",
       "      <td id=\"T_76b6c_row16_col1\" class=\"data row16 col1\" >82219</td>\n",
       "    </tr>\n",
       "    <tr>\n",
       "      <th id=\"T_76b6c_level0_row17\" class=\"row_heading level0 row17\" >40</th>\n",
       "      <td id=\"T_76b6c_row17_col0\" class=\"data row17 col0\" >Hungary</td>\n",
       "      <td id=\"T_76b6c_row17_col1\" class=\"data row17 col1\" >73891</td>\n",
       "    </tr>\n",
       "    <tr>\n",
       "      <th id=\"T_76b6c_level0_row18\" class=\"row_heading level0 row18\" >74</th>\n",
       "      <td id=\"T_76b6c_row18_col0\" class=\"data row18 col0\" >Romania</td>\n",
       "      <td id=\"T_76b6c_row18_col1\" class=\"data row18 col1\" >72777</td>\n",
       "    </tr>\n",
       "    <tr>\n",
       "      <th id=\"T_76b6c_level0_row19\" class=\"row_heading level0 row19\" >5</th>\n",
       "      <td id=\"T_76b6c_row19_col0\" class=\"data row19 col0\" >Australia</td>\n",
       "      <td id=\"T_76b6c_row19_col1\" class=\"data row19 col1\" >70111</td>\n",
       "    </tr>\n",
       "    <tr>\n",
       "      <th id=\"T_76b6c_level0_row20\" class=\"row_heading level0 row20\" >12</th>\n",
       "      <td id=\"T_76b6c_row20_col0\" class=\"data row20 col0\" >Belgium</td>\n",
       "      <td id=\"T_76b6c_row20_col1\" class=\"data row20 col1\" >62761</td>\n",
       "    </tr>\n",
       "    <tr>\n",
       "      <th id=\"T_76b6c_level0_row21\" class=\"row_heading level0 row21\" >11</th>\n",
       "      <td id=\"T_76b6c_row21_col0\" class=\"data row21 col0\" >Belarus</td>\n",
       "      <td id=\"T_76b6c_row21_col1\" class=\"data row21 col1\" >59892</td>\n",
       "    </tr>\n",
       "    <tr>\n",
       "      <th id=\"T_76b6c_level0_row22\" class=\"row_heading level0 row22\" >87</th>\n",
       "      <td id=\"T_76b6c_row22_col0\" class=\"data row22 col0\" >Sri Lanka</td>\n",
       "      <td id=\"T_76b6c_row22_col1\" class=\"data row22 col1\" >55641</td>\n",
       "    </tr>\n",
       "    <tr>\n",
       "      <th id=\"T_76b6c_level0_row23\" class=\"row_heading level0 row23\" >20</th>\n",
       "      <td id=\"T_76b6c_row23_col0\" class=\"data row23 col0\" >Colombia</td>\n",
       "      <td id=\"T_76b6c_row23_col1\" class=\"data row23 col1\" >53080</td>\n",
       "    </tr>\n",
       "    <tr>\n",
       "      <th id=\"T_76b6c_level0_row24\" class=\"row_heading level0 row24\" >61</th>\n",
       "      <td id=\"T_76b6c_row24_col0\" class=\"data row24 col0\" >Netherlands</td>\n",
       "      <td id=\"T_76b6c_row24_col1\" class=\"data row24 col1\" >50833</td>\n",
       "    </tr>\n",
       "    <tr>\n",
       "      <th id=\"T_76b6c_level0_row25\" class=\"row_heading level0 row25\" >6</th>\n",
       "      <td id=\"T_76b6c_row25_col0\" class=\"data row25 col0\" >Austria</td>\n",
       "      <td id=\"T_76b6c_row25_col1\" class=\"data row25 col1\" >50073</td>\n",
       "    </tr>\n",
       "    <tr>\n",
       "      <th id=\"T_76b6c_level0_row26\" class=\"row_heading level0 row26\" >25</th>\n",
       "      <td id=\"T_76b6c_row26_col0\" class=\"data row26 col0\" >Czech Republic</td>\n",
       "      <td id=\"T_76b6c_row26_col1\" class=\"data row26 col1\" >43687</td>\n",
       "    </tr>\n",
       "    <tr>\n",
       "      <th id=\"T_76b6c_level0_row27\" class=\"row_heading level0 row27\" >23</th>\n",
       "      <td id=\"T_76b6c_row27_col0\" class=\"data row27 col0\" >Cuba</td>\n",
       "      <td id=\"T_76b6c_row27_col1\" class=\"data row27 col1\" >41418</td>\n",
       "    </tr>\n",
       "    <tr>\n",
       "      <th id=\"T_76b6c_level0_row28\" class=\"row_heading level0 row28\" >19</th>\n",
       "      <td id=\"T_76b6c_row28_col0\" class=\"data row28 col0\" >Chile</td>\n",
       "      <td id=\"T_76b6c_row28_col1\" class=\"data row28 col1\" >40895</td>\n",
       "    </tr>\n",
       "    <tr>\n",
       "      <th id=\"T_76b6c_level0_row29\" class=\"row_heading level0 row29\" >89</th>\n",
       "      <td id=\"T_76b6c_row29_col0\" class=\"data row29 col0\" >Sweden</td>\n",
       "      <td id=\"T_76b6c_row29_col1\" class=\"data row29 col1\" >37795</td>\n",
       "    </tr>\n",
       "    <tr>\n",
       "      <th id=\"T_76b6c_level0_row30\" class=\"row_heading level0 row30\" >16</th>\n",
       "      <td id=\"T_76b6c_row30_col0\" class=\"data row30 col0\" >Bulgaria</td>\n",
       "      <td id=\"T_76b6c_row30_col1\" class=\"data row30 col1\" >36388</td>\n",
       "    </tr>\n",
       "    <tr>\n",
       "      <th id=\"T_76b6c_level0_row31\" class=\"row_heading level0 row31\" >100</th>\n",
       "      <td id=\"T_76b6c_row31_col0\" class=\"data row31 col0\" >Uzbekistan</td>\n",
       "      <td id=\"T_76b6c_row31_col1\" class=\"data row31 col1\" >34803</td>\n",
       "    </tr>\n",
       "    <tr>\n",
       "      <th id=\"T_76b6c_level0_row32\" class=\"row_heading level0 row32\" >32</th>\n",
       "      <td id=\"T_76b6c_row32_col0\" class=\"data row32 col0\" >Finland</td>\n",
       "      <td id=\"T_76b6c_row32_col1\" class=\"data row32 col1\" >33677</td>\n",
       "    </tr>\n",
       "    <tr>\n",
       "      <th id=\"T_76b6c_level0_row33\" class=\"row_heading level0 row33\" >52</th>\n",
       "      <td id=\"T_76b6c_row33_col0\" class=\"data row33 col0\" >Lithuania</td>\n",
       "      <td id=\"T_76b6c_row33_col1\" class=\"data row33 col1\" >28039</td>\n",
       "    </tr>\n",
       "    <tr>\n",
       "      <th id=\"T_76b6c_level0_row34\" class=\"row_heading level0 row34\" >90</th>\n",
       "      <td id=\"T_76b6c_row34_col0\" class=\"data row34 col0\" >Switzerland</td>\n",
       "      <td id=\"T_76b6c_row34_col1\" class=\"data row34 col1\" >26217</td>\n",
       "    </tr>\n",
       "    <tr>\n",
       "      <th id=\"T_76b6c_level0_row35\" class=\"row_heading level0 row35\" >80</th>\n",
       "      <td id=\"T_76b6c_row35_col0\" class=\"data row35 col0\" >Serbia</td>\n",
       "      <td id=\"T_76b6c_row35_col1\" class=\"data row35 col1\" >24179</td>\n",
       "    </tr>\n",
       "    <tr>\n",
       "      <th id=\"T_76b6c_level0_row36\" class=\"row_heading level0 row36\" >70</th>\n",
       "      <td id=\"T_76b6c_row36_col0\" class=\"data row36 col0\" >Portugal</td>\n",
       "      <td id=\"T_76b6c_row36_col1\" class=\"data row36 col1\" >24061</td>\n",
       "    </tr>\n",
       "    <tr>\n",
       "      <th id=\"T_76b6c_level0_row37\" class=\"row_heading level0 row37\" >68</th>\n",
       "      <td id=\"T_76b6c_row37_col0\" class=\"data row37 col0\" >Philippines</td>\n",
       "      <td id=\"T_76b6c_row37_col1\" class=\"data row37 col1\" >21330</td>\n",
       "    </tr>\n",
       "    <tr>\n",
       "      <th id=\"T_76b6c_level0_row38\" class=\"row_heading level0 row38\" >28</th>\n",
       "      <td id=\"T_76b6c_row38_col0\" class=\"data row38 col0\" >Ecuador</td>\n",
       "      <td id=\"T_76b6c_row38_col1\" class=\"data row38 col1\" >20660</td>\n",
       "    </tr>\n",
       "    <tr>\n",
       "      <th id=\"T_76b6c_level0_row39\" class=\"row_heading level0 row39\" >22</th>\n",
       "      <td id=\"T_76b6c_row39_col0\" class=\"data row39 col0\" >Croatia</td>\n",
       "      <td id=\"T_76b6c_row39_col1\" class=\"data row39 col1\" >18429</td>\n",
       "    </tr>\n",
       "    <tr>\n",
       "      <th id=\"T_76b6c_level0_row40\" class=\"row_heading level0 row40\" >64</th>\n",
       "      <td id=\"T_76b6c_row40_col0\" class=\"data row40 col0\" >Norway</td>\n",
       "      <td id=\"T_76b6c_row40_col1\" class=\"data row40 col1\" >16992</td>\n",
       "    </tr>\n",
       "    <tr>\n",
       "      <th id=\"T_76b6c_level0_row41\" class=\"row_heading level0 row41\" >26</th>\n",
       "      <td id=\"T_76b6c_row41_col0\" class=\"data row41 col0\" >Denmark</td>\n",
       "      <td id=\"T_76b6c_row41_col1\" class=\"data row41 col1\" >15297</td>\n",
       "    </tr>\n",
       "    <tr>\n",
       "      <th id=\"T_76b6c_level0_row42\" class=\"row_heading level0 row42\" >62</th>\n",
       "      <td id=\"T_76b6c_row42_col0\" class=\"data row42 col0\" >New Zealand</td>\n",
       "      <td id=\"T_76b6c_row42_col1\" class=\"data row42 col1\" >14383</td>\n",
       "    </tr>\n",
       "    <tr>\n",
       "      <th id=\"T_76b6c_level0_row43\" class=\"row_heading level0 row43\" >83</th>\n",
       "      <td id=\"T_76b6c_row43_col0\" class=\"data row43 col0\" >Slovakia</td>\n",
       "      <td id=\"T_76b6c_row43_col1\" class=\"data row43 col1\" >13437</td>\n",
       "    </tr>\n",
       "    <tr>\n",
       "      <th id=\"T_76b6c_level0_row44\" class=\"row_heading level0 row44\" >99</th>\n",
       "      <td id=\"T_76b6c_row44_col0\" class=\"data row44 col0\" >Uruguay</td>\n",
       "      <td id=\"T_76b6c_row44_col1\" class=\"data row44 col1\" >13138</td>\n",
       "    </tr>\n",
       "    <tr>\n",
       "      <th id=\"T_76b6c_level0_row45\" class=\"row_heading level0 row45\" >50</th>\n",
       "      <td id=\"T_76b6c_row45_col0\" class=\"data row45 col0\" >Kyrgyzstan</td>\n",
       "      <td id=\"T_76b6c_row45_col1\" class=\"data row45 col1\" >13090</td>\n",
       "    </tr>\n",
       "    <tr>\n",
       "      <th id=\"T_76b6c_level0_row46\" class=\"row_heading level0 row46\" >51</th>\n",
       "      <td id=\"T_76b6c_row46_col0\" class=\"data row46 col0\" >Latvia</td>\n",
       "      <td id=\"T_76b6c_row46_col1\" class=\"data row46 col1\" >12770</td>\n",
       "    </tr>\n",
       "    <tr>\n",
       "      <th id=\"T_76b6c_level0_row47\" class=\"row_heading level0 row47\" >42</th>\n",
       "      <td id=\"T_76b6c_row47_col0\" class=\"data row47 col0\" >Ireland</td>\n",
       "      <td id=\"T_76b6c_row47_col1\" class=\"data row47 col1\" >12574</td>\n",
       "    </tr>\n",
       "    <tr>\n",
       "      <th id=\"T_76b6c_level0_row48\" class=\"row_heading level0 row48\" >36</th>\n",
       "      <td id=\"T_76b6c_row48_col0\" class=\"data row48 col0\" >Greece</td>\n",
       "      <td id=\"T_76b6c_row48_col1\" class=\"data row48 col1\" >12368</td>\n",
       "    </tr>\n",
       "    <tr>\n",
       "      <th id=\"T_76b6c_level0_row49\" class=\"row_heading level0 row49\" >29</th>\n",
       "      <td id=\"T_76b6c_row49_col0\" class=\"data row49 col0\" >El Salvador</td>\n",
       "      <td id=\"T_76b6c_row49_col1\" class=\"data row49 col1\" >11683</td>\n",
       "    </tr>\n",
       "    <tr>\n",
       "      <th id=\"T_76b6c_level0_row50\" class=\"row_heading level0 row50\" >43</th>\n",
       "      <td id=\"T_76b6c_row50_col0\" class=\"data row50 col0\" >Israel</td>\n",
       "      <td id=\"T_76b6c_row50_col1\" class=\"data row50 col1\" >11294</td>\n",
       "    </tr>\n",
       "    <tr>\n",
       "      <th id=\"T_76b6c_level0_row51\" class=\"row_heading level0 row51\" >84</th>\n",
       "      <td id=\"T_76b6c_row51_col0\" class=\"data row51 col0\" >Slovenia</td>\n",
       "      <td id=\"T_76b6c_row51_col1\" class=\"data row51 col1\" >10615</td>\n",
       "    </tr>\n",
       "    <tr>\n",
       "      <th id=\"T_76b6c_level0_row52\" class=\"row_heading level0 row52\" >93</th>\n",
       "      <td id=\"T_76b6c_row52_col0\" class=\"data row52 col0\" >Turkey</td>\n",
       "      <td id=\"T_76b6c_row52_col1\" class=\"data row52 col1\" >10131</td>\n",
       "    </tr>\n",
       "    <tr>\n",
       "      <th id=\"T_76b6c_level0_row53\" class=\"row_heading level0 row53\" >82</th>\n",
       "      <td id=\"T_76b6c_row53_col0\" class=\"data row53 col0\" >Singapore</td>\n",
       "      <td id=\"T_76b6c_row53_col1\" class=\"data row53 col1\" >10089</td>\n",
       "    </tr>\n",
       "    <tr>\n",
       "      <th id=\"T_76b6c_level0_row54\" class=\"row_heading level0 row54\" >71</th>\n",
       "      <td id=\"T_76b6c_row54_col0\" class=\"data row54 col0\" >Puerto Rico</td>\n",
       "      <td id=\"T_76b6c_row54_col1\" class=\"data row54 col1\" >9043</td>\n",
       "    </tr>\n",
       "    <tr>\n",
       "      <th id=\"T_76b6c_level0_row55\" class=\"row_heading level0 row55\" >94</th>\n",
       "      <td id=\"T_76b6c_row55_col0\" class=\"data row55 col0\" >Turkmenistan</td>\n",
       "      <td id=\"T_76b6c_row55_col1\" class=\"data row55 col1\" >8624</td>\n",
       "    </tr>\n",
       "    <tr>\n",
       "      <th id=\"T_76b6c_level0_row56\" class=\"row_heading level0 row56\" >38</th>\n",
       "      <td id=\"T_76b6c_row56_col0\" class=\"data row56 col0\" >Guatemala</td>\n",
       "      <td id=\"T_76b6c_row56_col1\" class=\"data row56 col1\" >8149</td>\n",
       "    </tr>\n",
       "    <tr>\n",
       "      <th id=\"T_76b6c_level0_row57\" class=\"row_heading level0 row57\" >85</th>\n",
       "      <td id=\"T_76b6c_row57_col0\" class=\"data row57 col0\" >South Africa</td>\n",
       "      <td id=\"T_76b6c_row57_col1\" class=\"data row57 col1\" >7321</td>\n",
       "    </tr>\n",
       "    <tr>\n",
       "      <th id=\"T_76b6c_level0_row58\" class=\"row_heading level0 row58\" >30</th>\n",
       "      <td id=\"T_76b6c_row58_col0\" class=\"data row58 col0\" >Estonia</td>\n",
       "      <td id=\"T_76b6c_row58_col1\" class=\"data row58 col1\" >7034</td>\n",
       "    </tr>\n",
       "    <tr>\n",
       "      <th id=\"T_76b6c_level0_row59\" class=\"row_heading level0 row59\" >21</th>\n",
       "      <td id=\"T_76b6c_row59_col0\" class=\"data row59 col0\" >Costa Rica</td>\n",
       "      <td id=\"T_76b6c_row59_col1\" class=\"data row59 col1\" >6792</td>\n",
       "    </tr>\n",
       "    <tr>\n",
       "      <th id=\"T_76b6c_level0_row60\" class=\"row_heading level0 row60\" >67</th>\n",
       "      <td id=\"T_76b6c_row60_col0\" class=\"data row60 col0\" >Paraguay</td>\n",
       "      <td id=\"T_76b6c_row60_col1\" class=\"data row60 col1\" >4783</td>\n",
       "    </tr>\n",
       "    <tr>\n",
       "      <th id=\"T_76b6c_level0_row61\" class=\"row_heading level0 row61\" >92</th>\n",
       "      <td id=\"T_76b6c_row61_col0\" class=\"data row61 col0\" >Trinidad and Tobago</td>\n",
       "      <td id=\"T_76b6c_row61_col1\" class=\"data row61 col1\" >4039</td>\n",
       "    </tr>\n",
       "    <tr>\n",
       "      <th id=\"T_76b6c_level0_row62\" class=\"row_heading level0 row62\" >57</th>\n",
       "      <td id=\"T_76b6c_row62_col0\" class=\"data row62 col0\" >Mauritius</td>\n",
       "      <td id=\"T_76b6c_row62_col1\" class=\"data row62 col1\" >3894</td>\n",
       "    </tr>\n",
       "    <tr>\n",
       "      <th id=\"T_76b6c_level0_row63\" class=\"row_heading level0 row63\" >66</th>\n",
       "      <td id=\"T_76b6c_row63_col0\" class=\"data row63 col0\" >Panama</td>\n",
       "      <td id=\"T_76b6c_row63_col1\" class=\"data row63 col1\" >3483</td>\n",
       "    </tr>\n",
       "    <tr>\n",
       "      <th id=\"T_76b6c_level0_row64\" class=\"row_heading level0 row64\" >39</th>\n",
       "      <td id=\"T_76b6c_row64_col0\" class=\"data row64 col0\" >Guyana</td>\n",
       "      <td id=\"T_76b6c_row64_col1\" class=\"data row64 col1\" >3426</td>\n",
       "    </tr>\n",
       "    <tr>\n",
       "      <th id=\"T_76b6c_level0_row65\" class=\"row_heading level0 row65\" >34</th>\n",
       "      <td id=\"T_76b6c_row65_col0\" class=\"data row65 col0\" >Georgia</td>\n",
       "      <td id=\"T_76b6c_row65_col1\" class=\"data row65 col1\" >3224</td>\n",
       "    </tr>\n",
       "    <tr>\n",
       "      <th id=\"T_76b6c_level0_row66\" class=\"row_heading level0 row66\" >88</th>\n",
       "      <td id=\"T_76b6c_row66_col0\" class=\"data row66 col0\" >Suriname</td>\n",
       "      <td id=\"T_76b6c_row66_col1\" class=\"data row66 col1\" >2166</td>\n",
       "    </tr>\n",
       "    <tr>\n",
       "      <th id=\"T_76b6c_level0_row67\" class=\"row_heading level0 row67\" >63</th>\n",
       "      <td id=\"T_76b6c_row67_col0\" class=\"data row67 col0\" >Nicaragua</td>\n",
       "      <td id=\"T_76b6c_row67_col1\" class=\"data row67 col1\" >2013</td>\n",
       "    </tr>\n",
       "    <tr>\n",
       "      <th id=\"T_76b6c_level0_row68\" class=\"row_heading level0 row68\" >0</th>\n",
       "      <td id=\"T_76b6c_row68_col0\" class=\"data row68 col0\" >Albania</td>\n",
       "      <td id=\"T_76b6c_row68_col1\" class=\"data row68 col1\" >1970</td>\n",
       "    </tr>\n",
       "    <tr>\n",
       "      <th id=\"T_76b6c_level0_row69\" class=\"row_heading level0 row69\" >53</th>\n",
       "      <td id=\"T_76b6c_row69_col0\" class=\"data row69 col0\" >Luxembourg</td>\n",
       "      <td id=\"T_76b6c_row69_col1\" class=\"data row69 col1\" >1958</td>\n",
       "    </tr>\n",
       "    <tr>\n",
       "      <th id=\"T_76b6c_level0_row70\" class=\"row_heading level0 row70\" >3</th>\n",
       "      <td id=\"T_76b6c_row70_col0\" class=\"data row70 col0\" >Armenia</td>\n",
       "      <td id=\"T_76b6c_row70_col1\" class=\"data row70 col1\" >1905</td>\n",
       "    </tr>\n",
       "    <tr>\n",
       "      <th id=\"T_76b6c_level0_row71\" class=\"row_heading level0 row71\" >7</th>\n",
       "      <td id=\"T_76b6c_row71_col0\" class=\"data row71 col0\" >Azerbaijan</td>\n",
       "      <td id=\"T_76b6c_row71_col1\" class=\"data row71 col1\" >1656</td>\n",
       "    </tr>\n",
       "    <tr>\n",
       "      <th id=\"T_76b6c_level0_row72\" class=\"row_heading level0 row72\" >41</th>\n",
       "      <td id=\"T_76b6c_row72_col0\" class=\"data row72 col0\" >Iceland</td>\n",
       "      <td id=\"T_76b6c_row72_col1\" class=\"data row72 col1\" >1108</td>\n",
       "    </tr>\n",
       "    <tr>\n",
       "      <th id=\"T_76b6c_level0_row73\" class=\"row_heading level0 row73\" >49</th>\n",
       "      <td id=\"T_76b6c_row73_col0\" class=\"data row73 col0\" >Kuwait</td>\n",
       "      <td id=\"T_76b6c_row73_col1\" class=\"data row73 col1\" >966</td>\n",
       "    </tr>\n",
       "    <tr>\n",
       "      <th id=\"T_76b6c_level0_row74\" class=\"row_heading level0 row74\" >96</th>\n",
       "      <td id=\"T_76b6c_row74_col0\" class=\"data row74 col0\" >United Arab Emirates</td>\n",
       "      <td id=\"T_76b6c_row74_col1\" class=\"data row74 col1\" >622</td>\n",
       "    </tr>\n",
       "    <tr>\n",
       "      <th id=\"T_76b6c_level0_row75\" class=\"row_heading level0 row75\" >56</th>\n",
       "      <td id=\"T_76b6c_row75_col0\" class=\"data row75 col0\" >Malta</td>\n",
       "      <td id=\"T_76b6c_row75_col1\" class=\"data row75 col1\" >585</td>\n",
       "    </tr>\n",
       "    <tr>\n",
       "      <th id=\"T_76b6c_level0_row76\" class=\"row_heading level0 row76\" >72</th>\n",
       "      <td id=\"T_76b6c_row76_col0\" class=\"data row76 col0\" >Qatar</td>\n",
       "      <td id=\"T_76b6c_row76_col1\" class=\"data row76 col1\" >574</td>\n",
       "    </tr>\n",
       "    <tr>\n",
       "      <th id=\"T_76b6c_level0_row77\" class=\"row_heading level0 row77\" >60</th>\n",
       "      <td id=\"T_76b6c_row77_col0\" class=\"data row77 col0\" >Montenegro</td>\n",
       "      <td id=\"T_76b6c_row77_col1\" class=\"data row77 col1\" >472</td>\n",
       "    </tr>\n",
       "    <tr>\n",
       "      <th id=\"T_76b6c_level0_row78\" class=\"row_heading level0 row78\" >9</th>\n",
       "      <td id=\"T_76b6c_row78_col0\" class=\"data row78 col0\" >Bahrain</td>\n",
       "      <td id=\"T_76b6c_row78_col1\" class=\"data row78 col1\" >463</td>\n",
       "    </tr>\n",
       "    <tr>\n",
       "      <th id=\"T_76b6c_level0_row79\" class=\"row_heading level0 row79\" >59</th>\n",
       "      <td id=\"T_76b6c_row79_col0\" class=\"data row79 col0\" >Mongolia</td>\n",
       "      <td id=\"T_76b6c_row79_col1\" class=\"data row79 col1\" >423</td>\n",
       "    </tr>\n",
       "    <tr>\n",
       "      <th id=\"T_76b6c_level0_row80\" class=\"row_heading level0 row80\" >24</th>\n",
       "      <td id=\"T_76b6c_row80_col0\" class=\"data row80 col0\" >Cyprus</td>\n",
       "      <td id=\"T_76b6c_row80_col1\" class=\"data row80 col1\" >412</td>\n",
       "    </tr>\n",
       "    <tr>\n",
       "      <th id=\"T_76b6c_level0_row81\" class=\"row_heading level0 row81\" >13</th>\n",
       "      <td id=\"T_76b6c_row81_col0\" class=\"data row81 col0\" >Belize</td>\n",
       "      <td id=\"T_76b6c_row81_col1\" class=\"data row81 col1\" >348</td>\n",
       "    </tr>\n",
       "    <tr>\n",
       "      <th id=\"T_76b6c_level0_row82\" class=\"row_heading level0 row82\" >14</th>\n",
       "      <td id=\"T_76b6c_row82_col0\" class=\"data row82 col0\" >Bosnia and Herzegovina</td>\n",
       "      <td id=\"T_76b6c_row82_col1\" class=\"data row82 col1\" >318</td>\n",
       "    </tr>\n",
       "    <tr>\n",
       "      <th id=\"T_76b6c_level0_row83\" class=\"row_heading level0 row83\" >31</th>\n",
       "      <td id=\"T_76b6c_row83_col0\" class=\"data row83 col0\" >Fiji</td>\n",
       "      <td id=\"T_76b6c_row83_col1\" class=\"data row83 col1\" >304</td>\n",
       "    </tr>\n",
       "    <tr>\n",
       "      <th id=\"T_76b6c_level0_row84\" class=\"row_heading level0 row84\" >77</th>\n",
       "      <td id=\"T_76b6c_row84_col0\" class=\"data row84 col0\" >Saint Lucia</td>\n",
       "      <td id=\"T_76b6c_row84_col1\" class=\"data row84 col1\" >230</td>\n",
       "    </tr>\n",
       "    <tr>\n",
       "      <th id=\"T_76b6c_level0_row85\" class=\"row_heading level0 row85\" >45</th>\n",
       "      <td id=\"T_76b6c_row85_col0\" class=\"data row85 col0\" >Jamaica</td>\n",
       "      <td id=\"T_76b6c_row85_col1\" class=\"data row85 col1\" >184</td>\n",
       "    </tr>\n",
       "    <tr>\n",
       "      <th id=\"T_76b6c_level0_row86\" class=\"row_heading level0 row86\" >10</th>\n",
       "      <td id=\"T_76b6c_row86_col0\" class=\"data row86 col0\" >Barbados</td>\n",
       "      <td id=\"T_76b6c_row86_col1\" class=\"data row86 col1\" >177</td>\n",
       "    </tr>\n",
       "    <tr>\n",
       "      <th id=\"T_76b6c_level0_row87\" class=\"row_heading level0 row87\" >78</th>\n",
       "      <td id=\"T_76b6c_row87_col0\" class=\"data row87 col0\" >Saint Vincent and Grenadines</td>\n",
       "      <td id=\"T_76b6c_row87_col1\" class=\"data row87 col1\" >124</td>\n",
       "    </tr>\n",
       "    <tr>\n",
       "      <th id=\"T_76b6c_level0_row88\" class=\"row_heading level0 row88\" >4</th>\n",
       "      <td id=\"T_76b6c_row88_col0\" class=\"data row88 col0\" >Aruba</td>\n",
       "      <td id=\"T_76b6c_row88_col1\" class=\"data row88 col1\" >101</td>\n",
       "    </tr>\n",
       "    <tr>\n",
       "      <th id=\"T_76b6c_level0_row89\" class=\"row_heading level0 row89\" >81</th>\n",
       "      <td id=\"T_76b6c_row89_col0\" class=\"data row89 col0\" >Seychelles</td>\n",
       "      <td id=\"T_76b6c_row89_col1\" class=\"data row89 col1\" >98</td>\n",
       "    </tr>\n",
       "    <tr>\n",
       "      <th id=\"T_76b6c_level0_row90\" class=\"row_heading level0 row90\" >8</th>\n",
       "      <td id=\"T_76b6c_row90_col0\" class=\"data row90 col0\" >Bahamas</td>\n",
       "      <td id=\"T_76b6c_row90_col1\" class=\"data row90 col1\" >93</td>\n",
       "    </tr>\n",
       "    <tr>\n",
       "      <th id=\"T_76b6c_level0_row91\" class=\"row_heading level0 row91\" >48</th>\n",
       "      <td id=\"T_76b6c_row91_col0\" class=\"data row91 col0\" >Kiribati</td>\n",
       "      <td id=\"T_76b6c_row91_col1\" class=\"data row91 col1\" >53</td>\n",
       "    </tr>\n",
       "    <tr>\n",
       "      <th id=\"T_76b6c_level0_row92\" class=\"row_heading level0 row92\" >17</th>\n",
       "      <td id=\"T_76b6c_row92_col0\" class=\"data row92 col0\" >Cabo Verde</td>\n",
       "      <td id=\"T_76b6c_row92_col1\" class=\"data row92 col1\" >42</td>\n",
       "    </tr>\n",
       "    <tr>\n",
       "      <th id=\"T_76b6c_level0_row93\" class=\"row_heading level0 row93\" >37</th>\n",
       "      <td id=\"T_76b6c_row93_col0\" class=\"data row93 col0\" >Grenada</td>\n",
       "      <td id=\"T_76b6c_row93_col1\" class=\"data row93 col1\" >38</td>\n",
       "    </tr>\n",
       "    <tr>\n",
       "      <th id=\"T_76b6c_level0_row94\" class=\"row_heading level0 row94\" >65</th>\n",
       "      <td id=\"T_76b6c_row94_col0\" class=\"data row94 col0\" >Oman</td>\n",
       "      <td id=\"T_76b6c_row94_col1\" class=\"data row94 col1\" >33</td>\n",
       "    </tr>\n",
       "    <tr>\n",
       "      <th id=\"T_76b6c_level0_row95\" class=\"row_heading level0 row95\" >54</th>\n",
       "      <td id=\"T_76b6c_row95_col0\" class=\"data row95 col0\" >Macau</td>\n",
       "      <td id=\"T_76b6c_row95_col1\" class=\"data row95 col1\" >27</td>\n",
       "    </tr>\n",
       "    <tr>\n",
       "      <th id=\"T_76b6c_level0_row96\" class=\"row_heading level0 row96\" >55</th>\n",
       "      <td id=\"T_76b6c_row96_col0\" class=\"data row96 col0\" >Maldives</td>\n",
       "      <td id=\"T_76b6c_row96_col1\" class=\"data row96 col1\" >20</td>\n",
       "    </tr>\n",
       "    <tr>\n",
       "      <th id=\"T_76b6c_level0_row97\" class=\"row_heading level0 row97\" >1</th>\n",
       "      <td id=\"T_76b6c_row97_col0\" class=\"data row97 col0\" >Antigua and Barbuda</td>\n",
       "      <td id=\"T_76b6c_row97_col1\" class=\"data row97 col1\" >11</td>\n",
       "    </tr>\n",
       "    <tr>\n",
       "      <th id=\"T_76b6c_level0_row98\" class=\"row_heading level0 row98\" >79</th>\n",
       "      <td id=\"T_76b6c_row98_col0\" class=\"data row98 col0\" >San Marino</td>\n",
       "      <td id=\"T_76b6c_row98_col1\" class=\"data row98 col1\" >4</td>\n",
       "    </tr>\n",
       "    <tr>\n",
       "      <th id=\"T_76b6c_level0_row99\" class=\"row_heading level0 row99\" >76</th>\n",
       "      <td id=\"T_76b6c_row99_col0\" class=\"data row99 col0\" >Saint Kitts and Nevis</td>\n",
       "      <td id=\"T_76b6c_row99_col1\" class=\"data row99 col1\" >0</td>\n",
       "    </tr>\n",
       "    <tr>\n",
       "      <th id=\"T_76b6c_level0_row100\" class=\"row_heading level0 row100\" >27</th>\n",
       "      <td id=\"T_76b6c_row100_col0\" class=\"data row100 col0\" >Dominica</td>\n",
       "      <td id=\"T_76b6c_row100_col1\" class=\"data row100 col1\" >0</td>\n",
       "    </tr>\n",
       "  </tbody>\n",
       "</table>\n"
      ],
      "text/plain": [
       "<pandas.io.formats.style.Styler at 0x210dc2d1670>"
      ]
     },
     "execution_count": 51,
     "metadata": {},
     "output_type": "execute_result"
    }
   ],
   "source": [
    "sorted_country_suicides = country_suicides.sort_values(by='suicides_no', ascending=False)\n",
    "\n",
    "sorted_country_suicides.style.background_gradient(cmap='Oranges', subset=['suicides_no'])"
   ]
  },
  {
   "cell_type": "markdown",
   "metadata": {},
   "source": [
    "Looking at the map and graph, we can see that:\n",
    "\n",
    "- Russian Federation and United States have the highest number of suicides, followed by Japan, France, and Ukraine.\n",
    "\n",
    "- The Republic of Korea, Brazil, Poland, and United Kingdom also have significant numbers of suicides.\n",
    "\n",
    "- Many other countries, including Italy, Mexico, Thailand, and Canada, have notable suicide numbers as well."
   ]
  },
  {
   "cell_type": "markdown",
   "metadata": {},
   "source": [
    "## Income & Suicides"
   ]
  },
  {
   "cell_type": "markdown",
   "metadata": {},
   "source": [
    "Let's connect our previous rankings to the idea that \"wealthier countries tend to have more suicides.\" \n",
    "\n",
    "This prompts the question: Is there a connection between higher GDP per capita and a higher number of suicides?"
   ]
  },
  {
   "cell_type": "code",
   "execution_count": 52,
   "metadata": {},
   "outputs": [
    {
     "data": {
      "text/html": [
       "<div>\n",
       "<style scoped>\n",
       "    .dataframe tbody tr th:only-of-type {\n",
       "        vertical-align: middle;\n",
       "    }\n",
       "\n",
       "    .dataframe tbody tr th {\n",
       "        vertical-align: top;\n",
       "    }\n",
       "\n",
       "    .dataframe thead th {\n",
       "        text-align: right;\n",
       "    }\n",
       "</style>\n",
       "<table border=\"1\" class=\"dataframe\">\n",
       "  <thead>\n",
       "    <tr style=\"text-align: right;\">\n",
       "      <th></th>\n",
       "      <th>country</th>\n",
       "      <th>gdp_per_capita</th>\n",
       "      <th>suicides_per_100k</th>\n",
       "    </tr>\n",
       "  </thead>\n",
       "  <tbody>\n",
       "    <tr>\n",
       "      <th>75</th>\n",
       "      <td>Russian Federation</td>\n",
       "      <td>2112096</td>\n",
       "      <td>11305.13</td>\n",
       "    </tr>\n",
       "    <tr>\n",
       "      <th>52</th>\n",
       "      <td>Lithuania</td>\n",
       "      <td>2431504</td>\n",
       "      <td>10588.88</td>\n",
       "    </tr>\n",
       "    <tr>\n",
       "      <th>40</th>\n",
       "      <td>Hungary</td>\n",
       "      <td>2904716</td>\n",
       "      <td>10156.07</td>\n",
       "    </tr>\n",
       "    <tr>\n",
       "      <th>47</th>\n",
       "      <td>Kazakhstan</td>\n",
       "      <td>1662684</td>\n",
       "      <td>9519.52</td>\n",
       "    </tr>\n",
       "    <tr>\n",
       "      <th>73</th>\n",
       "      <td>Republic of Korea</td>\n",
       "      <td>5506068</td>\n",
       "      <td>9350.45</td>\n",
       "    </tr>\n",
       "    <tr>\n",
       "      <th>6</th>\n",
       "      <td>Austria</td>\n",
       "      <td>13088000</td>\n",
       "      <td>9076.23</td>\n",
       "    </tr>\n",
       "    <tr>\n",
       "      <th>95</th>\n",
       "      <td>Ukraine</td>\n",
       "      <td>627492</td>\n",
       "      <td>8931.66</td>\n",
       "    </tr>\n",
       "    <tr>\n",
       "      <th>46</th>\n",
       "      <td>Japan</td>\n",
       "      <td>13539888</td>\n",
       "      <td>8025.23</td>\n",
       "    </tr>\n",
       "    <tr>\n",
       "      <th>32</th>\n",
       "      <td>Finland</td>\n",
       "      <td>12342960</td>\n",
       "      <td>7924.11</td>\n",
       "    </tr>\n",
       "    <tr>\n",
       "      <th>12</th>\n",
       "      <td>Belgium</td>\n",
       "      <td>11928828</td>\n",
       "      <td>7900.50</td>\n",
       "    </tr>\n",
       "  </tbody>\n",
       "</table>\n",
       "</div>"
      ],
      "text/plain": [
       "               country  gdp_per_capita  suicides_per_100k\n",
       "75  Russian Federation         2112096           11305.13\n",
       "52           Lithuania         2431504           10588.88\n",
       "40             Hungary         2904716           10156.07\n",
       "47          Kazakhstan         1662684            9519.52\n",
       "73   Republic of Korea         5506068            9350.45\n",
       "6              Austria        13088000            9076.23\n",
       "95             Ukraine          627492            8931.66\n",
       "46               Japan        13539888            8025.23\n",
       "32             Finland        12342960            7924.11\n",
       "12             Belgium        11928828            7900.50"
      ]
     },
     "execution_count": 52,
     "metadata": {},
     "output_type": "execute_result"
    }
   ],
   "source": [
    "gpd_and_suicides_df = df.groupby('country')[['gdp_per_capita', 'suicides_per_100k']].sum().reset_index()\n",
    "\n",
    "sorted_gpd_and_suicides_df = gpd_and_suicides_df.sort_values(by=['suicides_per_100k', 'gdp_per_capita'], ascending=[False, False])\n",
    "\n",
    "sorted_gpd_and_suicides_df.head(10)"
   ]
  },
  {
   "cell_type": "code",
   "execution_count": 53,
   "metadata": {},
   "outputs": [
    {
     "data": {
      "image/png": "[encoded data removed]",
      "text/plain": [
       "<Figure size 1152x432 with 1 Axes>"
      ]
     },
     "metadata": {
      "needs_background": "light"
     },
     "output_type": "display_data"
    },
    {
     "name": "stdout",
     "output_type": "stream",
     "text": [
      "Correlation coefficient: 0.0018\n"
     ]
    }
   ],
   "source": [
    "plt.figure(figsize=(16, 6))\n",
    "\n",
    "plt.scatter(df[\"gdp_per_capita\"], df[\"suicides_per_100k\"], color=\"orange\")\n",
    "\n",
    "plt.title(\"Scatter Plot of GDP per Capita vs. Suicides per 100k\", fontsize=14)\n",
    "plt.xlabel(\"GDP per Capita\", fontsize=14)\n",
    "plt.ylabel(\"Suicides per 100k\", fontsize=14)\n",
    "\n",
    "plt.xlim(0, df[\"gdp_per_capita\"].max()+1500)\n",
    "plt.ylim(0, df[\"suicides_per_100k\"].max()+20)\n",
    "\n",
    "plt.show()\n",
    "\n",
    "print(\"Correlation coefficient: {:.2}\".format(np.corrcoef(df[\"gdp_per_capita\"], df[\"suicides_per_100k\"])[0, 1]))"
   ]
  },
  {
   "cell_type": "markdown",
   "metadata": {},
   "source": [
    "A correlation coefficient of 0.0018 means there's a hardly noticeable straight-line link between GDP per Capita and Suicider per 100k. Changes in one variable don't really go along with changes in the other variable."
   ]
  },
  {
   "cell_type": "markdown",
   "metadata": {},
   "source": [
    "## HDI & Suicides"
   ]
  },
  {
   "cell_type": "markdown",
   "metadata": {},
   "source": [
    "Wrapping up, let's return to the 'HDI_for_year' as I mentioned earlier in this notebook.\n",
    "\n",
    "Well, it's time to look into this column, but we'll only consider the values that make sense - no need to worry about the missing ones."
   ]
  },
  {
   "cell_type": "code",
   "execution_count": 54,
   "metadata": {},
   "outputs": [
    {
     "data": {
      "image/png": "[encoded data removed]",
      "text/plain": [
       "<Figure size 1152x576 with 1 Axes>"
      ]
     },
     "metadata": {
      "needs_background": "light"
     },
     "output_type": "display_data"
    }
   ],
   "source": [
    "full_df = pd.read_csv('dataset.csv')\n",
    "filtered_df = full_df.dropna(subset=['HDI for year'], inplace=True)\n",
    "\n",
    "f, ax = plt.subplots(1, 1, figsize=(16, 8))\n",
    "ax = sns.scatterplot(x=\"HDI for year\", y=\"suicides_no\", data=full_df, color='orange')\n",
    "\n",
    "ax.set_xlabel(\"HDI for Year\", fontsize=14)\n",
    "ax.set_ylabel(\"Number of Suicides\", fontsize=14)\n",
    "ax.set_title(\"Scatter Plot: HDI for Year vs. Number of Suicides\", fontsize=14)\n",
    "\n",
    "ax.set_xlim(0.45, full_df['HDI for year'].max()+0.01)\n",
    "ax.set_ylim(-50, full_df['suicides_no'].max()+2000) \n",
    "\n",
    "plt.show()"
   ]
  },
  {
   "cell_type": "markdown",
   "metadata": {},
   "source": [
    "It looks like when the Human Development Index (HDI) goes up each year, more people decide to end their lives.\n",
    "\n",
    "HDI counts things like money differences, changes in society, mental health support, school stress, and feeling alone in busy places. This teaches us that helping mental well-being as societies develop is complex and needs careful attention."
   ]
  },
  {
   "cell_type": "markdown",
   "metadata": {},
   "source": [
    "# Conclusions"
   ]
  },
  {
   "cell_type": "markdown",
   "metadata": {},
   "source": [
    "- Suicide rates have gone up and down, but overall they seem to be getting better, possibly because of strategies to help prevent suicide.\n",
    "\n",
    "- More males than females are taking their own lives, so we need to find ways to help males with their mental health.\n",
    "\n",
    "- Older people, like those who are 75 and up, are having more trouble and need special help and support.\n",
    "\n",
    "- When countries become better in different ways, like having more money and better schools, it doesn't always mean fewer suicides. It's complicated, involving things like how people feel, mental health support, and changes in society."
   ]
  }
 ],
 "metadata": {
  "kernelspec": {
   "display_name": "base",
   "language": "python",
   "name": "python3"
  },
  "language_info": {
   "codemirror_mode": {
    "name": "ipython",
    "version": 3
   },
   "file_extension": ".py",
   "mimetype": "text/x-python",
   "name": "python",
   "nbconvert_exporter": "python",
   "pygments_lexer": "ipython3",
   "version": "3.9.12"
  },
  "orig_nbformat": 4
 },
 "nbformat": 4,
 "nbformat_minor": 2
}
